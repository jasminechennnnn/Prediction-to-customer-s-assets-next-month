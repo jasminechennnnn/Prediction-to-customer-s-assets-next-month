{
  "nbformat": 4,
  "nbformat_minor": 0,
  "metadata": {
    "colab": {
      "name": "model_lstm_split_next",
      "provenance": [],
      "collapsed_sections": []
    },
    "kernelspec": {
      "name": "python3",
      "display_name": "Python 3"
    },
    "accelerator": "GPU"
  },
  "cells": [
    {
      "cell_type": "code",
      "metadata": {
        "id": "YcB8GiGHBhHt"
      },
      "source": [
        "import pandas as pd\r\n",
        "import numpy as np\r\n",
        "import matplotlib.pyplot as plt\r\n",
        "import seaborn as sns\r\n",
        "import warnings\r\n",
        "warnings.filterwarnings('ignore')"
      ],
      "execution_count": null,
      "outputs": []
    },
    {
      "cell_type": "code",
      "metadata": {
        "colab": {
          "base_uri": "https://localhost:8080/"
        },
        "id": "ak39Htd3Bowf",
        "outputId": "7cea664f-f9ba-40f1-dc3c-b15cb39658d0"
      },
      "source": [
        "from google.colab import drive\r\n",
        "drive.mount('/content/drive')"
      ],
      "execution_count": null,
      "outputs": [
        {
          "output_type": "stream",
          "text": [
            "Mounted at /content/drive\n"
          ],
          "name": "stdout"
        }
      ]
    },
    {
      "cell_type": "code",
      "metadata": {
        "colab": {
          "base_uri": "https://localhost:8080/"
        },
        "id": "oAULf1BiBpuU",
        "outputId": "a7006b2b-d32f-41dd-91ad-d5cdc36a75be"
      },
      "source": [
        "%cd /content/drive/MyDrive/Colab Notebooks/bigdata"
      ],
      "execution_count": null,
      "outputs": [
        {
          "output_type": "stream",
          "text": [
            "/content/drive/MyDrive/Colab Notebooks/bigdata\n"
          ],
          "name": "stdout"
        }
      ]
    },
    {
      "cell_type": "code",
      "metadata": {
        "colab": {
          "base_uri": "https://localhost:8080/"
        },
        "id": "wgvP8fDHBq1b",
        "outputId": "717890ce-b887-4023-fded-cfc36045fdbf"
      },
      "source": [
        "df = pd.read_csv('data.csv')\r\n",
        "df.shape"
      ],
      "execution_count": null,
      "outputs": [
        {
          "output_type": "execute_result",
          "data": {
            "text/plain": [
              "(200092, 331)"
            ]
          },
          "metadata": {
            "tags": []
          },
          "execution_count": 4
        }
      ]
    },
    {
      "cell_type": "code",
      "metadata": {
        "colab": {
          "base_uri": "https://localhost:8080/"
        },
        "id": "TIAh1ffqJdpT",
        "outputId": "0f94da94-1744-4862-8df7-3a293fc5e58a"
      },
      "source": [
        "df_info = pd.read_csv('info.csv')\r\n",
        "df_info.shape"
      ],
      "execution_count": null,
      "outputs": [
        {
          "output_type": "execute_result",
          "data": {
            "text/plain": [
              "(200092, 41)"
            ]
          },
          "metadata": {
            "tags": []
          },
          "execution_count": 5
        }
      ]
    },
    {
      "cell_type": "code",
      "metadata": {
        "id": "dIc1Yyf0J7EH",
        "colab": {
          "base_uri": "https://localhost:8080/"
        },
        "outputId": "f04b7302-5d61-46d9-cdf8-0c199f4e05e5"
      },
      "source": [
        "df_info.columns"
      ],
      "execution_count": null,
      "outputs": [
        {
          "output_type": "execute_result",
          "data": {
            "text/plain": [
              "Index(['CUST_LOCATION_1', 'CUST_LOCATION_2', 'CUST_LOCATION_3',\n",
              "       'CUST_LOCATION_4', 'CUST_LOCATION_5', 'CUST_LOCATION_6',\n",
              "       'CUST_LOCATION_7', 'CUST_LOCATION_8', 'CUST_LOCATION_9',\n",
              "       'CUST_LOCATION_10', 'AGE_25', 'AGE_25_29', 'AGE_30_34', 'AGE_35_39',\n",
              "       'AGE_40_44', 'AGE_45_49', 'AGE_50_54', 'AGE_55_59', 'AGE_60',\n",
              "       'GENDER_1', 'GENDER_2', 'GENDER_3', 'JOB_1', 'JOB_2', 'JOB_3', 'JOB_4',\n",
              "       'JOB_5', 'JOB_6', 'JOB_7', 'JOB_8', 'JOB_9', 'JOB_10', 'JOB_11',\n",
              "       'BRANCH_DIST_0.5-1km', 'BRANCH_DIST_0.5km', 'BRANCH_DIST_1-1.5km',\n",
              "       'BRANCH_DIST_1.5-2km', 'BRANCH_DIST_2-2.5km', 'BRANCH_DIST_2.5-3km',\n",
              "       'BRANCH_DIST_3-5km', 'BRANCH_DIST_5km'],\n",
              "      dtype='object')"
            ]
          },
          "metadata": {
            "tags": []
          },
          "execution_count": 6
        }
      ]
    },
    {
      "cell_type": "markdown",
      "metadata": {
        "id": "lzHfaO3EB1FS"
      },
      "source": [
        "## 取出變動資訊並照日期排序，在最後一個columns加上'AUM_M13'"
      ]
    },
    {
      "cell_type": "code",
      "metadata": {
        "colab": {
          "base_uri": "https://localhost:8080/"
        },
        "id": "jdv-MDwZBz4i",
        "outputId": "b10687a8-82c2-4f3b-ed90-a5e22667ebf3"
      },
      "source": [
        "col_train = ['AMT_EXCHANGE_A_M' + str(i) for i in np.arange(1, 13)] + ['AMT_EXCHANGE_B_M' + str(i) for i in np.arange(1, 13)] + \\\r\n",
        "            ['AMT_EXCHANGE_C_M' + str(i) for i in np.arange(1, 13)] + ['AMT_INVST_M' + str(i) for i in np.arange(1, 13)] + \\\r\n",
        "            ['AMT_LOAN_D_M' + str(i) for i in np.arange(1, 13)] +  ['AMT_LOAN_E_M' + str(i) for i in np.arange(1, 13)] + \\\r\n",
        "            ['AMT_LOAN_F_M' + str(i) for i in np.arange(1, 13)] + ['AMT_INTERACT_G_M' + str(i) for i in np.arange(1, 13)] + \\\r\n",
        "            ['AMT_INTERACT_H_M' + str(i) for i in np.arange(1, 13)] + ['AUM_I_M' + str(i) for i in np.arange(1, 13)] +\\\r\n",
        "            ['AUM_J_M' + str(i) for i in np.arange(1, 13)] + ['AUM_K_M' + str(i) for i in np.arange(1, 13)] + \\\r\n",
        "            ['AUM_L_M' + str(i) for i in np.arange(1, 13)] +  ['AUM_M_M' + str(i) for i in np.arange(1, 13)] + \\\r\n",
        "            ['AUM_M' + str(i) for i in np.arange(1, 13)]\r\n",
        "m1 = [True if i.endswith('_M1') else False for i in col_train]\r\n",
        "m2 = [True if i.endswith('_M2') else False for i in col_train]\r\n",
        "m3 = [True if i.endswith('_M3') else False for i in col_train]\r\n",
        "m4 = [True if i.endswith('_M4') else False for i in col_train]\r\n",
        "m5 = [True if i.endswith('_M5') else False for i in col_train]\r\n",
        "m6 = [True if i.endswith('_M6') else False for i in col_train]\r\n",
        "m7 = [True if i.endswith('_M7') else False for i in col_train]\r\n",
        "m8 = [True if i.endswith('_M8') else False for i in col_train]\r\n",
        "m9 = [True if i.endswith('_M9') else False for i in col_train]\r\n",
        "m10 = [True if i.endswith('_M10') else False for i in col_train]\r\n",
        "m11 = [True if i.endswith('_M11') else False for i in col_train]\r\n",
        "m12 = [True if i.endswith('_M12') else False for i in col_train]\r\n",
        "\r\n",
        "# len(col_train) # 180 = 12*15\r\n",
        "\r\n",
        "col_train_sorted = []\r\n",
        "for m in [m1, m2, m3, m4, m5, m6, m7, m8, m9, m10, m11, m12]:\r\n",
        "    col_train_sorted.extend(list(d for d, s in zip(col_train, m) if s))\r\n",
        "    \r\n",
        "len(col_train_sorted)\r\n",
        "# col_train_sorted[-15:]\r\n",
        "\r\n",
        "df_sort = df[col_train_sorted + ['AUM_M13']]\r\n",
        "df_sort.shape\r\n",
        "# df_sort.columns"
      ],
      "execution_count": null,
      "outputs": [
        {
          "output_type": "execute_result",
          "data": {
            "text/plain": [
              "(200092, 181)"
            ]
          },
          "metadata": {
            "tags": []
          },
          "execution_count": 7
        }
      ]
    },
    {
      "cell_type": "markdown",
      "metadata": {
        "id": "dCvZAmtrB8s4"
      },
      "source": [
        "## min max scaler"
      ]
    },
    {
      "cell_type": "code",
      "metadata": {
        "colab": {
          "base_uri": "https://localhost:8080/",
          "height": 245
        },
        "id": "GpQ-MWTTB62Q",
        "outputId": "3958a698-811c-4928-eb9e-09986bf5bc61"
      },
      "source": [
        "from sklearn import preprocessing\r\n",
        "\r\n",
        "df_sort_nor = pd.DataFrame()\r\n",
        "min_max_scaler = preprocessing.MinMaxScaler()\r\n",
        "cols = list(df_sort.columns)\r\n",
        "for col in cols:\r\n",
        "  df_sort_nor[col] = min_max_scaler.fit_transform(df_sort[col].values.reshape(-1, 1)).flatten()\r\n",
        "\r\n",
        "df_sort_nor.head()"
      ],
      "execution_count": null,
      "outputs": [
        {
          "output_type": "execute_result",
          "data": {
            "text/html": [
              "<div>\n",
              "<style scoped>\n",
              "    .dataframe tbody tr th:only-of-type {\n",
              "        vertical-align: middle;\n",
              "    }\n",
              "\n",
              "    .dataframe tbody tr th {\n",
              "        vertical-align: top;\n",
              "    }\n",
              "\n",
              "    .dataframe thead th {\n",
              "        text-align: right;\n",
              "    }\n",
              "</style>\n",
              "<table border=\"1\" class=\"dataframe\">\n",
              "  <thead>\n",
              "    <tr style=\"text-align: right;\">\n",
              "      <th></th>\n",
              "      <th>AMT_EXCHANGE_A_M1</th>\n",
              "      <th>AMT_EXCHANGE_B_M1</th>\n",
              "      <th>AMT_EXCHANGE_C_M1</th>\n",
              "      <th>AMT_INVST_M1</th>\n",
              "      <th>AMT_LOAN_D_M1</th>\n",
              "      <th>AMT_LOAN_E_M1</th>\n",
              "      <th>AMT_LOAN_F_M1</th>\n",
              "      <th>AMT_INTERACT_G_M1</th>\n",
              "      <th>AMT_INTERACT_H_M1</th>\n",
              "      <th>AUM_I_M1</th>\n",
              "      <th>AUM_J_M1</th>\n",
              "      <th>AUM_K_M1</th>\n",
              "      <th>AUM_L_M1</th>\n",
              "      <th>AUM_M_M1</th>\n",
              "      <th>AUM_M1</th>\n",
              "      <th>AMT_EXCHANGE_A_M2</th>\n",
              "      <th>AMT_EXCHANGE_B_M2</th>\n",
              "      <th>AMT_EXCHANGE_C_M2</th>\n",
              "      <th>AMT_INVST_M2</th>\n",
              "      <th>AMT_LOAN_D_M2</th>\n",
              "      <th>AMT_LOAN_E_M2</th>\n",
              "      <th>AMT_LOAN_F_M2</th>\n",
              "      <th>AMT_INTERACT_G_M2</th>\n",
              "      <th>AMT_INTERACT_H_M2</th>\n",
              "      <th>AUM_I_M2</th>\n",
              "      <th>AUM_J_M2</th>\n",
              "      <th>AUM_K_M2</th>\n",
              "      <th>AUM_L_M2</th>\n",
              "      <th>AUM_M_M2</th>\n",
              "      <th>AUM_M2</th>\n",
              "      <th>AMT_EXCHANGE_A_M3</th>\n",
              "      <th>AMT_EXCHANGE_B_M3</th>\n",
              "      <th>AMT_EXCHANGE_C_M3</th>\n",
              "      <th>AMT_INVST_M3</th>\n",
              "      <th>AMT_LOAN_D_M3</th>\n",
              "      <th>AMT_LOAN_E_M3</th>\n",
              "      <th>AMT_LOAN_F_M3</th>\n",
              "      <th>AMT_INTERACT_G_M3</th>\n",
              "      <th>AMT_INTERACT_H_M3</th>\n",
              "      <th>AUM_I_M3</th>\n",
              "      <th>...</th>\n",
              "      <th>AMT_LOAN_F_M10</th>\n",
              "      <th>AMT_INTERACT_G_M10</th>\n",
              "      <th>AMT_INTERACT_H_M10</th>\n",
              "      <th>AUM_I_M10</th>\n",
              "      <th>AUM_J_M10</th>\n",
              "      <th>AUM_K_M10</th>\n",
              "      <th>AUM_L_M10</th>\n",
              "      <th>AUM_M_M10</th>\n",
              "      <th>AUM_M10</th>\n",
              "      <th>AMT_EXCHANGE_A_M11</th>\n",
              "      <th>AMT_EXCHANGE_B_M11</th>\n",
              "      <th>AMT_EXCHANGE_C_M11</th>\n",
              "      <th>AMT_INVST_M11</th>\n",
              "      <th>AMT_LOAN_D_M11</th>\n",
              "      <th>AMT_LOAN_E_M11</th>\n",
              "      <th>AMT_LOAN_F_M11</th>\n",
              "      <th>AMT_INTERACT_G_M11</th>\n",
              "      <th>AMT_INTERACT_H_M11</th>\n",
              "      <th>AUM_I_M11</th>\n",
              "      <th>AUM_J_M11</th>\n",
              "      <th>AUM_K_M11</th>\n",
              "      <th>AUM_L_M11</th>\n",
              "      <th>AUM_M_M11</th>\n",
              "      <th>AUM_M11</th>\n",
              "      <th>AMT_EXCHANGE_A_M12</th>\n",
              "      <th>AMT_EXCHANGE_B_M12</th>\n",
              "      <th>AMT_EXCHANGE_C_M12</th>\n",
              "      <th>AMT_INVST_M12</th>\n",
              "      <th>AMT_LOAN_D_M12</th>\n",
              "      <th>AMT_LOAN_E_M12</th>\n",
              "      <th>AMT_LOAN_F_M12</th>\n",
              "      <th>AMT_INTERACT_G_M12</th>\n",
              "      <th>AMT_INTERACT_H_M12</th>\n",
              "      <th>AUM_I_M12</th>\n",
              "      <th>AUM_J_M12</th>\n",
              "      <th>AUM_K_M12</th>\n",
              "      <th>AUM_L_M12</th>\n",
              "      <th>AUM_M_M12</th>\n",
              "      <th>AUM_M12</th>\n",
              "      <th>AUM_M13</th>\n",
              "    </tr>\n",
              "  </thead>\n",
              "  <tbody>\n",
              "    <tr>\n",
              "      <th>0</th>\n",
              "      <td>0.0</td>\n",
              "      <td>0.0</td>\n",
              "      <td>0.0</td>\n",
              "      <td>0.0</td>\n",
              "      <td>0.0</td>\n",
              "      <td>0.0</td>\n",
              "      <td>0.0</td>\n",
              "      <td>0.0</td>\n",
              "      <td>0.0</td>\n",
              "      <td>0.006129</td>\n",
              "      <td>0.0</td>\n",
              "      <td>0.0</td>\n",
              "      <td>0.0</td>\n",
              "      <td>0.0</td>\n",
              "      <td>0.006129</td>\n",
              "      <td>0.0</td>\n",
              "      <td>0.0</td>\n",
              "      <td>0.0</td>\n",
              "      <td>0.0</td>\n",
              "      <td>0.0</td>\n",
              "      <td>0.0</td>\n",
              "      <td>0.0</td>\n",
              "      <td>0.0</td>\n",
              "      <td>0.0</td>\n",
              "      <td>0.001247</td>\n",
              "      <td>0.0</td>\n",
              "      <td>0.0</td>\n",
              "      <td>0.0</td>\n",
              "      <td>0.0</td>\n",
              "      <td>0.001247</td>\n",
              "      <td>0.0</td>\n",
              "      <td>0.0</td>\n",
              "      <td>0.0</td>\n",
              "      <td>0.0</td>\n",
              "      <td>0.0</td>\n",
              "      <td>0.0</td>\n",
              "      <td>0.0</td>\n",
              "      <td>0.0</td>\n",
              "      <td>0.0</td>\n",
              "      <td>0.001287</td>\n",
              "      <td>...</td>\n",
              "      <td>0.0</td>\n",
              "      <td>0.0</td>\n",
              "      <td>0.0</td>\n",
              "      <td>0.001249</td>\n",
              "      <td>0.0</td>\n",
              "      <td>0.0</td>\n",
              "      <td>0.0</td>\n",
              "      <td>0.0</td>\n",
              "      <td>0.001249</td>\n",
              "      <td>0.0</td>\n",
              "      <td>0.0</td>\n",
              "      <td>0.0</td>\n",
              "      <td>0.0</td>\n",
              "      <td>0.0</td>\n",
              "      <td>0.0</td>\n",
              "      <td>0.0</td>\n",
              "      <td>0.0</td>\n",
              "      <td>0.0</td>\n",
              "      <td>0.001242</td>\n",
              "      <td>0.0</td>\n",
              "      <td>0.0</td>\n",
              "      <td>0.0</td>\n",
              "      <td>0.0</td>\n",
              "      <td>0.001234</td>\n",
              "      <td>0.0</td>\n",
              "      <td>0.0</td>\n",
              "      <td>0.0</td>\n",
              "      <td>0.0</td>\n",
              "      <td>0.0</td>\n",
              "      <td>0.0</td>\n",
              "      <td>0.0</td>\n",
              "      <td>0.0</td>\n",
              "      <td>0.0</td>\n",
              "      <td>0.001239</td>\n",
              "      <td>0.0</td>\n",
              "      <td>0.0</td>\n",
              "      <td>0.0</td>\n",
              "      <td>0.0</td>\n",
              "      <td>0.001239</td>\n",
              "      <td>0.001240</td>\n",
              "    </tr>\n",
              "    <tr>\n",
              "      <th>1</th>\n",
              "      <td>0.0</td>\n",
              "      <td>0.0</td>\n",
              "      <td>0.0</td>\n",
              "      <td>0.0</td>\n",
              "      <td>0.0</td>\n",
              "      <td>0.0</td>\n",
              "      <td>0.0</td>\n",
              "      <td>0.0</td>\n",
              "      <td>0.0</td>\n",
              "      <td>0.173870</td>\n",
              "      <td>0.0</td>\n",
              "      <td>0.0</td>\n",
              "      <td>0.0</td>\n",
              "      <td>0.0</td>\n",
              "      <td>0.173870</td>\n",
              "      <td>0.0</td>\n",
              "      <td>0.0</td>\n",
              "      <td>0.0</td>\n",
              "      <td>0.0</td>\n",
              "      <td>0.0</td>\n",
              "      <td>0.0</td>\n",
              "      <td>0.0</td>\n",
              "      <td>0.0</td>\n",
              "      <td>0.0</td>\n",
              "      <td>0.035363</td>\n",
              "      <td>0.0</td>\n",
              "      <td>0.0</td>\n",
              "      <td>0.0</td>\n",
              "      <td>0.0</td>\n",
              "      <td>0.035363</td>\n",
              "      <td>0.0</td>\n",
              "      <td>0.0</td>\n",
              "      <td>0.0</td>\n",
              "      <td>0.0</td>\n",
              "      <td>0.0</td>\n",
              "      <td>0.0</td>\n",
              "      <td>0.0</td>\n",
              "      <td>0.0</td>\n",
              "      <td>0.0</td>\n",
              "      <td>0.036499</td>\n",
              "      <td>...</td>\n",
              "      <td>0.0</td>\n",
              "      <td>0.0</td>\n",
              "      <td>0.0</td>\n",
              "      <td>0.035429</td>\n",
              "      <td>0.0</td>\n",
              "      <td>0.0</td>\n",
              "      <td>0.0</td>\n",
              "      <td>0.0</td>\n",
              "      <td>0.035429</td>\n",
              "      <td>0.0</td>\n",
              "      <td>0.0</td>\n",
              "      <td>0.0</td>\n",
              "      <td>0.0</td>\n",
              "      <td>0.0</td>\n",
              "      <td>0.0</td>\n",
              "      <td>0.0</td>\n",
              "      <td>0.0</td>\n",
              "      <td>0.0</td>\n",
              "      <td>0.035239</td>\n",
              "      <td>0.0</td>\n",
              "      <td>0.0</td>\n",
              "      <td>0.0</td>\n",
              "      <td>0.0</td>\n",
              "      <td>0.034994</td>\n",
              "      <td>0.0</td>\n",
              "      <td>0.0</td>\n",
              "      <td>0.0</td>\n",
              "      <td>0.0</td>\n",
              "      <td>0.0</td>\n",
              "      <td>0.0</td>\n",
              "      <td>0.0</td>\n",
              "      <td>0.0</td>\n",
              "      <td>0.0</td>\n",
              "      <td>0.035145</td>\n",
              "      <td>0.0</td>\n",
              "      <td>0.0</td>\n",
              "      <td>0.0</td>\n",
              "      <td>0.0</td>\n",
              "      <td>0.035145</td>\n",
              "      <td>0.035183</td>\n",
              "    </tr>\n",
              "    <tr>\n",
              "      <th>2</th>\n",
              "      <td>0.0</td>\n",
              "      <td>0.0</td>\n",
              "      <td>0.0</td>\n",
              "      <td>0.0</td>\n",
              "      <td>0.0</td>\n",
              "      <td>0.0</td>\n",
              "      <td>0.0</td>\n",
              "      <td>0.0</td>\n",
              "      <td>0.0</td>\n",
              "      <td>0.170239</td>\n",
              "      <td>0.0</td>\n",
              "      <td>0.0</td>\n",
              "      <td>0.0</td>\n",
              "      <td>0.0</td>\n",
              "      <td>0.170239</td>\n",
              "      <td>0.0</td>\n",
              "      <td>0.0</td>\n",
              "      <td>0.0</td>\n",
              "      <td>0.0</td>\n",
              "      <td>0.0</td>\n",
              "      <td>0.0</td>\n",
              "      <td>0.0</td>\n",
              "      <td>0.0</td>\n",
              "      <td>0.0</td>\n",
              "      <td>0.040613</td>\n",
              "      <td>0.0</td>\n",
              "      <td>0.0</td>\n",
              "      <td>0.0</td>\n",
              "      <td>0.0</td>\n",
              "      <td>0.040613</td>\n",
              "      <td>0.0</td>\n",
              "      <td>0.0</td>\n",
              "      <td>0.0</td>\n",
              "      <td>0.0</td>\n",
              "      <td>0.0</td>\n",
              "      <td>0.0</td>\n",
              "      <td>0.0</td>\n",
              "      <td>0.0</td>\n",
              "      <td>0.0</td>\n",
              "      <td>0.045928</td>\n",
              "      <td>...</td>\n",
              "      <td>0.0</td>\n",
              "      <td>0.0</td>\n",
              "      <td>0.0</td>\n",
              "      <td>0.108094</td>\n",
              "      <td>0.0</td>\n",
              "      <td>0.0</td>\n",
              "      <td>0.0</td>\n",
              "      <td>0.0</td>\n",
              "      <td>0.108094</td>\n",
              "      <td>0.0</td>\n",
              "      <td>0.0</td>\n",
              "      <td>0.0</td>\n",
              "      <td>0.0</td>\n",
              "      <td>0.0</td>\n",
              "      <td>0.0</td>\n",
              "      <td>0.0</td>\n",
              "      <td>0.0</td>\n",
              "      <td>0.0</td>\n",
              "      <td>0.107513</td>\n",
              "      <td>0.0</td>\n",
              "      <td>0.0</td>\n",
              "      <td>0.0</td>\n",
              "      <td>0.0</td>\n",
              "      <td>0.106765</td>\n",
              "      <td>0.0</td>\n",
              "      <td>0.0</td>\n",
              "      <td>0.0</td>\n",
              "      <td>0.0</td>\n",
              "      <td>0.0</td>\n",
              "      <td>0.0</td>\n",
              "      <td>0.0</td>\n",
              "      <td>0.0</td>\n",
              "      <td>0.0</td>\n",
              "      <td>0.107200</td>\n",
              "      <td>0.0</td>\n",
              "      <td>0.0</td>\n",
              "      <td>0.0</td>\n",
              "      <td>0.0</td>\n",
              "      <td>0.107200</td>\n",
              "      <td>0.107266</td>\n",
              "    </tr>\n",
              "    <tr>\n",
              "      <th>3</th>\n",
              "      <td>0.0</td>\n",
              "      <td>0.0</td>\n",
              "      <td>0.0</td>\n",
              "      <td>0.0</td>\n",
              "      <td>0.0</td>\n",
              "      <td>0.0</td>\n",
              "      <td>0.0</td>\n",
              "      <td>0.0</td>\n",
              "      <td>0.0</td>\n",
              "      <td>0.019406</td>\n",
              "      <td>0.0</td>\n",
              "      <td>0.0</td>\n",
              "      <td>0.0</td>\n",
              "      <td>0.0</td>\n",
              "      <td>0.019406</td>\n",
              "      <td>0.0</td>\n",
              "      <td>0.0</td>\n",
              "      <td>0.0</td>\n",
              "      <td>0.0</td>\n",
              "      <td>0.0</td>\n",
              "      <td>0.0</td>\n",
              "      <td>0.0</td>\n",
              "      <td>0.0</td>\n",
              "      <td>0.0</td>\n",
              "      <td>0.003947</td>\n",
              "      <td>0.0</td>\n",
              "      <td>0.0</td>\n",
              "      <td>0.0</td>\n",
              "      <td>0.0</td>\n",
              "      <td>0.003947</td>\n",
              "      <td>0.0</td>\n",
              "      <td>0.0</td>\n",
              "      <td>0.0</td>\n",
              "      <td>0.0</td>\n",
              "      <td>0.0</td>\n",
              "      <td>0.0</td>\n",
              "      <td>0.0</td>\n",
              "      <td>0.0</td>\n",
              "      <td>0.0</td>\n",
              "      <td>0.004074</td>\n",
              "      <td>...</td>\n",
              "      <td>0.0</td>\n",
              "      <td>0.0</td>\n",
              "      <td>0.0</td>\n",
              "      <td>0.003954</td>\n",
              "      <td>0.0</td>\n",
              "      <td>0.0</td>\n",
              "      <td>0.0</td>\n",
              "      <td>0.0</td>\n",
              "      <td>0.003954</td>\n",
              "      <td>0.0</td>\n",
              "      <td>0.0</td>\n",
              "      <td>0.0</td>\n",
              "      <td>0.0</td>\n",
              "      <td>0.0</td>\n",
              "      <td>0.0</td>\n",
              "      <td>0.0</td>\n",
              "      <td>0.0</td>\n",
              "      <td>0.0</td>\n",
              "      <td>0.003933</td>\n",
              "      <td>0.0</td>\n",
              "      <td>0.0</td>\n",
              "      <td>0.0</td>\n",
              "      <td>0.0</td>\n",
              "      <td>0.003906</td>\n",
              "      <td>0.0</td>\n",
              "      <td>0.0</td>\n",
              "      <td>0.0</td>\n",
              "      <td>0.0</td>\n",
              "      <td>0.0</td>\n",
              "      <td>0.0</td>\n",
              "      <td>0.0</td>\n",
              "      <td>0.0</td>\n",
              "      <td>0.0</td>\n",
              "      <td>0.003923</td>\n",
              "      <td>0.0</td>\n",
              "      <td>0.0</td>\n",
              "      <td>0.0</td>\n",
              "      <td>0.0</td>\n",
              "      <td>0.003923</td>\n",
              "      <td>0.003927</td>\n",
              "    </tr>\n",
              "    <tr>\n",
              "      <th>4</th>\n",
              "      <td>0.0</td>\n",
              "      <td>0.0</td>\n",
              "      <td>0.0</td>\n",
              "      <td>0.0</td>\n",
              "      <td>0.0</td>\n",
              "      <td>0.0</td>\n",
              "      <td>0.0</td>\n",
              "      <td>0.0</td>\n",
              "      <td>0.0</td>\n",
              "      <td>0.216141</td>\n",
              "      <td>0.0</td>\n",
              "      <td>0.0</td>\n",
              "      <td>0.0</td>\n",
              "      <td>0.0</td>\n",
              "      <td>0.216141</td>\n",
              "      <td>0.0</td>\n",
              "      <td>0.0</td>\n",
              "      <td>0.0</td>\n",
              "      <td>0.0</td>\n",
              "      <td>0.0</td>\n",
              "      <td>0.0</td>\n",
              "      <td>0.0</td>\n",
              "      <td>0.0</td>\n",
              "      <td>0.0</td>\n",
              "      <td>0.043948</td>\n",
              "      <td>0.0</td>\n",
              "      <td>0.0</td>\n",
              "      <td>0.0</td>\n",
              "      <td>0.0</td>\n",
              "      <td>0.043948</td>\n",
              "      <td>0.0</td>\n",
              "      <td>0.0</td>\n",
              "      <td>0.0</td>\n",
              "      <td>0.0</td>\n",
              "      <td>0.0</td>\n",
              "      <td>0.0</td>\n",
              "      <td>0.0</td>\n",
              "      <td>0.0</td>\n",
              "      <td>0.0</td>\n",
              "      <td>0.045341</td>\n",
              "      <td>...</td>\n",
              "      <td>0.0</td>\n",
              "      <td>0.0</td>\n",
              "      <td>0.0</td>\n",
              "      <td>0.045006</td>\n",
              "      <td>0.0</td>\n",
              "      <td>0.0</td>\n",
              "      <td>0.0</td>\n",
              "      <td>0.0</td>\n",
              "      <td>0.045006</td>\n",
              "      <td>0.0</td>\n",
              "      <td>0.0</td>\n",
              "      <td>0.0</td>\n",
              "      <td>0.0</td>\n",
              "      <td>0.0</td>\n",
              "      <td>0.0</td>\n",
              "      <td>0.0</td>\n",
              "      <td>0.0</td>\n",
              "      <td>0.0</td>\n",
              "      <td>0.044765</td>\n",
              "      <td>0.0</td>\n",
              "      <td>0.0</td>\n",
              "      <td>0.0</td>\n",
              "      <td>0.0</td>\n",
              "      <td>0.044453</td>\n",
              "      <td>0.0</td>\n",
              "      <td>0.0</td>\n",
              "      <td>0.0</td>\n",
              "      <td>0.0</td>\n",
              "      <td>0.0</td>\n",
              "      <td>0.0</td>\n",
              "      <td>0.0</td>\n",
              "      <td>0.0</td>\n",
              "      <td>0.0</td>\n",
              "      <td>0.044644</td>\n",
              "      <td>0.0</td>\n",
              "      <td>0.0</td>\n",
              "      <td>0.0</td>\n",
              "      <td>0.0</td>\n",
              "      <td>0.044644</td>\n",
              "      <td>0.044693</td>\n",
              "    </tr>\n",
              "  </tbody>\n",
              "</table>\n",
              "<p>5 rows × 181 columns</p>\n",
              "</div>"
            ],
            "text/plain": [
              "   AMT_EXCHANGE_A_M1  AMT_EXCHANGE_B_M1  ...   AUM_M12   AUM_M13\n",
              "0                0.0                0.0  ...  0.001239  0.001240\n",
              "1                0.0                0.0  ...  0.035145  0.035183\n",
              "2                0.0                0.0  ...  0.107200  0.107266\n",
              "3                0.0                0.0  ...  0.003923  0.003927\n",
              "4                0.0                0.0  ...  0.044644  0.044693\n",
              "\n",
              "[5 rows x 181 columns]"
            ]
          },
          "metadata": {
            "tags": []
          },
          "execution_count": 8
        }
      ]
    },
    {
      "cell_type": "markdown",
      "metadata": {
        "id": "ARYMLnNlB_5o"
      },
      "source": [
        "## train/test split "
      ]
    },
    {
      "cell_type": "code",
      "metadata": {
        "colab": {
          "base_uri": "https://localhost:8080/"
        },
        "id": "qrFxbse7B65Q",
        "outputId": "cfd581b7-dd54-4350-8d01-fb6117b40900"
      },
      "source": [
        "from sklearn.model_selection import train_test_split\r\n",
        "\r\n",
        "X = df_sort_nor.drop('AUM_M13', axis = 1)\r\n",
        "Y = df_sort_nor['AUM_M13']\r\n",
        "\r\n",
        "train_x, test_x, train_y, test_y = train_test_split(X, Y, test_size = 0.3, random_state = 1, shuffle = True)\r\n",
        "train_index = train_x.index\r\n",
        "test_index = test_x.index\r\n",
        "print(f'train shape = {train_x.shape}\\ntest shape = {test_x.shape}')"
      ],
      "execution_count": null,
      "outputs": [
        {
          "output_type": "stream",
          "text": [
            "train shape = (140064, 180)\n",
            "test shape = (60028, 180)\n"
          ],
          "name": "stdout"
        }
      ]
    },
    {
      "cell_type": "markdown",
      "metadata": {
        "id": "A1CO4COECFqO"
      },
      "source": [
        "## 用train data'AUM_M12'的四分位數將train data分成四份"
      ]
    },
    {
      "cell_type": "code",
      "metadata": {
        "colab": {
          "base_uri": "https://localhost:8080/"
        },
        "id": "xQAfzyx6CC43",
        "outputId": "95b776df-7dea-46f2-97c5-335f226c4131"
      },
      "source": [
        "q1, q2, q3 = np.percentile(train_x['AUM_M12'], [25, 50, 75])\r\n",
        "# q1, q2, q3\r\n",
        "train_x_1 = train_x[train_x['AUM_M12'] < q1]\r\n",
        "train_y_1 = train_y[train_x_1.index]\r\n",
        "\r\n",
        "train_x_2 = train_x[(train_x['AUM_M12'] > q1) & (train_x['AUM_M12'] < q2)]\r\n",
        "train_y_2 = train_y[train_x_2.index]\r\n",
        "\r\n",
        "train_x_3 = train_x[(train_x['AUM_M12'] > q2) & (train_x['AUM_M12'] < q3)]\r\n",
        "train_y_3 = train_y[train_x_3.index]\r\n",
        "\r\n",
        "train_x_4 = train_x[train_x['AUM_M12'] > q3]\r\n",
        "train_y_4 = train_y[train_x_4.index]\r\n",
        "\r\n",
        "print(f'train_x_1 shape = {train_x_1.shape}\\ntrain_x_1 shape = {train_x_2.shape}\\ntrain_x_1 shape = {train_x_3.shape}\\ntrain_x_1 shape = {train_x_4.shape}')"
      ],
      "execution_count": null,
      "outputs": [
        {
          "output_type": "stream",
          "text": [
            "train_x_1 shape = (35016, 180)\n",
            "train_x_1 shape = (35016, 180)\n",
            "train_x_1 shape = (35016, 180)\n",
            "train_x_1 shape = (35016, 180)\n"
          ],
          "name": "stdout"
        }
      ]
    },
    {
      "cell_type": "markdown",
      "metadata": {
        "id": "l7mfB0N1D5SD"
      },
      "source": [
        "## 將test data用剛剛算出來的q1, q2, q3分成四份"
      ]
    },
    {
      "cell_type": "code",
      "metadata": {
        "colab": {
          "base_uri": "https://localhost:8080/"
        },
        "id": "WLKTEZqED4DT",
        "outputId": "eee85039-69b2-418b-9b96-c0ed4614bd5d"
      },
      "source": [
        "test_x_1 = test_x[test_x['AUM_M12'] < q1]\r\n",
        "test_y_1 = test_y[test_x_1.index]\r\n",
        "\r\n",
        "test_x_2 = test_x[(test_x['AUM_M12'] > q1) & (test_x['AUM_M12'] < q2)]\r\n",
        "test_y_2 = test_y[test_x_2.index]\r\n",
        "\r\n",
        "test_x_3 = test_x[(test_x['AUM_M12'] > q2) & (test_x['AUM_M12'] < q3)]\r\n",
        "test_y_3 = test_y[test_x_3.index]\r\n",
        "\r\n",
        "test_x_4 = test_x[test_x['AUM_M12'] > q3]\r\n",
        "test_y_4 = test_y[test_x_4.index]\r\n",
        "\r\n",
        "print(f'test_x_1 shape = {test_x_1.shape}\\ntest_x_1 shape = {test_x_2.shape}\\ntest_x_1 shape = {test_x_3.shape}\\ntest_x_1 shape = {test_x_4.shape}')"
      ],
      "execution_count": null,
      "outputs": [
        {
          "output_type": "stream",
          "text": [
            "test_x_1 shape = (15125, 180)\n",
            "test_x_1 shape = (15008, 180)\n",
            "test_x_1 shape = (14959, 180)\n",
            "test_x_1 shape = (14936, 180)\n"
          ],
          "name": "stdout"
        }
      ]
    },
    {
      "cell_type": "markdown",
      "metadata": {
        "id": "o-ZAxEXJYeep"
      },
      "source": [
        "## 製作train_info_1~4"
      ]
    },
    {
      "cell_type": "code",
      "metadata": {
        "id": "-ioau1sDYnOD",
        "colab": {
          "base_uri": "https://localhost:8080/"
        },
        "outputId": "9b07c526-76b2-48eb-bad9-b7294d244590"
      },
      "source": [
        "train_info = df_info.iloc[train_index, :]\r\n",
        "train_info_1 = train_info.loc[train_x_1.index, :]\r\n",
        "train_info_2 = train_info.loc[train_x_2.index, :]\r\n",
        "train_info_3 = train_info.loc[train_x_3.index, :]\r\n",
        "train_info_4 = train_info.loc[train_x_4.index, :]\r\n",
        "print(train_info_1.shape)"
      ],
      "execution_count": null,
      "outputs": [
        {
          "output_type": "stream",
          "text": [
            "(35016, 41)\n"
          ],
          "name": "stdout"
        }
      ]
    },
    {
      "cell_type": "markdown",
      "metadata": {
        "id": "Zp-krkS2Yjvv"
      },
      "source": [
        "## 製作test_info_1~4"
      ]
    },
    {
      "cell_type": "code",
      "metadata": {
        "id": "mmcEOuArYntM",
        "colab": {
          "base_uri": "https://localhost:8080/"
        },
        "outputId": "b7ae2a21-729d-4fc7-f346-009cc48c7763"
      },
      "source": [
        "test_info = df_info.iloc[test_index ,:]\r\n",
        "test_info_1 = test_info.loc[test_x_1.index, :]\r\n",
        "test_info_2 = test_info.loc[test_x_2.index, :]\r\n",
        "test_info_3 = test_info.loc[test_x_3.index, :]\r\n",
        "test_info_4 = test_info.loc[test_x_4.index, :]\r\n",
        "print(test_info_1.shape)"
      ],
      "execution_count": null,
      "outputs": [
        {
          "output_type": "stream",
          "text": [
            "(15125, 41)\n"
          ],
          "name": "stdout"
        }
      ]
    },
    {
      "cell_type": "markdown",
      "metadata": {
        "id": "rBR2p0G0CJOR"
      },
      "source": [
        "## Model"
      ]
    },
    {
      "cell_type": "code",
      "metadata": {
        "id": "c3j55puzCHbq"
      },
      "source": [
        "from tensorflow.keras.preprocessing.sequence import pad_sequences\r\n",
        "from tensorflow.keras.models import Sequential\r\n",
        "from tensorflow.keras.layers import Dense, Activation, Dropout, Flatten, SimpleRNN, BatchNormalization\r\n",
        "from tensorflow.keras.layers import LSTM\r\n",
        "from tensorflow.keras.utils import plot_model\r\n",
        "import time"
      ],
      "execution_count": null,
      "outputs": []
    },
    {
      "cell_type": "code",
      "metadata": {
        "colab": {
          "base_uri": "https://localhost:8080/"
        },
        "id": "o3mT4pQ4CLOW",
        "outputId": "302f3fd6-c00b-4e86-b4d0-5a62218d8d5e"
      },
      "source": [
        "def model_2():\r\n",
        "  model_2 = Sequential()\r\n",
        "  model_2.add(LSTM(32, input_shape = (12, 15), return_sequences = True))\r\n",
        "  model_2.add(LSTM(32, input_shape = (12, 15), return_sequences = False))\r\n",
        "  model_2.add(Dense(1))\r\n",
        "\r\n",
        "  model_2.compile(loss = 'mean_absolute_error', optimizer = 'adam')\r\n",
        "  return model_2\r\n",
        "  \r\n",
        "model_2().summary()"
      ],
      "execution_count": null,
      "outputs": [
        {
          "output_type": "stream",
          "text": [
            "Model: \"sequential\"\n",
            "_________________________________________________________________\n",
            "Layer (type)                 Output Shape              Param #   \n",
            "=================================================================\n",
            "lstm (LSTM)                  (None, 12, 32)            6144      \n",
            "_________________________________________________________________\n",
            "lstm_1 (LSTM)                (None, 32)                8320      \n",
            "_________________________________________________________________\n",
            "dense (Dense)                (None, 1)                 33        \n",
            "=================================================================\n",
            "Total params: 14,497\n",
            "Trainable params: 14,497\n",
            "Non-trainable params: 0\n",
            "_________________________________________________________________\n"
          ],
          "name": "stdout"
        }
      ]
    },
    {
      "cell_type": "code",
      "metadata": {
        "colab": {
          "base_uri": "https://localhost:8080/"
        },
        "id": "is1Va3-UCLQl",
        "outputId": "30bbe584-f688-495c-cc6e-ba8cb14884a8"
      },
      "source": [
        "def model_3():\r\n",
        "  model_3 = Sequential()\r\n",
        "  model_3.add(LSTM(32, input_shape = (12, 15), return_sequences = True))\r\n",
        "  model_3.add(LSTM(64, input_shape = (12, 15), return_sequences = False))\r\n",
        "  model_3.add(Dense(1))\r\n",
        "\r\n",
        "  model_3.compile(loss = 'mean_absolute_error', optimizer = 'adam')\r\n",
        "  return model_3\r\n",
        "\r\n",
        "model_3().summary()"
      ],
      "execution_count": null,
      "outputs": [
        {
          "output_type": "stream",
          "text": [
            "Model: \"sequential_1\"\n",
            "_________________________________________________________________\n",
            "Layer (type)                 Output Shape              Param #   \n",
            "=================================================================\n",
            "lstm_2 (LSTM)                (None, 12, 32)            6144      \n",
            "_________________________________________________________________\n",
            "lstm_3 (LSTM)                (None, 64)                24832     \n",
            "_________________________________________________________________\n",
            "dense_1 (Dense)              (None, 1)                 65        \n",
            "=================================================================\n",
            "Total params: 31,041\n",
            "Trainable params: 31,041\n",
            "Non-trainable params: 0\n",
            "_________________________________________________________________\n"
          ],
          "name": "stdout"
        }
      ]
    },
    {
      "cell_type": "code",
      "metadata": {
        "colab": {
          "base_uri": "https://localhost:8080/"
        },
        "id": "ZPntAvzMCLTU",
        "outputId": "bafe415f-864e-490b-fcfb-ba4070d705d2"
      },
      "source": [
        "def model_7():\r\n",
        "  model_7 = Sequential()\r\n",
        "  model_7.add(LSTM(32, input_shape = (12, 15), return_sequences = True))\r\n",
        "  model_7.add(LSTM(64, input_shape = (12, 15), return_sequences = False))\r\n",
        "  model_7.add(Dropout(0.2))\r\n",
        "  model_7.add(Dense(1))\r\n",
        "\r\n",
        "  model_7.compile(loss = 'mean_absolute_error', optimizer = 'adam')\r\n",
        "  return model_7\r\n",
        "\r\n",
        "model_7().summary()"
      ],
      "execution_count": null,
      "outputs": [
        {
          "output_type": "stream",
          "text": [
            "Model: \"sequential_2\"\n",
            "_________________________________________________________________\n",
            "Layer (type)                 Output Shape              Param #   \n",
            "=================================================================\n",
            "lstm_4 (LSTM)                (None, 12, 32)            6144      \n",
            "_________________________________________________________________\n",
            "lstm_5 (LSTM)                (None, 64)                24832     \n",
            "_________________________________________________________________\n",
            "dropout (Dropout)            (None, 64)                0         \n",
            "_________________________________________________________________\n",
            "dense_2 (Dense)              (None, 1)                 65        \n",
            "=================================================================\n",
            "Total params: 31,041\n",
            "Trainable params: 31,041\n",
            "Non-trainable params: 0\n",
            "_________________________________________________________________\n"
          ],
          "name": "stdout"
        }
      ]
    },
    {
      "cell_type": "markdown",
      "metadata": {
        "id": "Xb-fZ2jrCchx"
      },
      "source": [
        "## 每類資料在其表現最好的模型下的test data結果\r\n",
        "1. train_x_1: model_3\r\n",
        "2. train_x_2: model_2\r\n",
        "3. train_x_3: model_7\r\n",
        "4. train_x_4: model_7\r\n",
        "\r\n"
      ]
    },
    {
      "cell_type": "code",
      "metadata": {
        "id": "Brs-xvubFlvR"
      },
      "source": [
        "def inverse_transform(y):\r\n",
        "  min_max_scaler = preprocessing.MinMaxScaler()\r\n",
        "  min_max_scaler.fit_transform(df_sort['AUM_M13'].values.reshape(-1, 1))\r\n",
        "  inverse_y = min_max_scaler.inverse_transform(y.reshape(-1, 1)).flatten()\r\n",
        "  return inverse_y"
      ],
      "execution_count": null,
      "outputs": []
    },
    {
      "cell_type": "code",
      "metadata": {
        "id": "2A86EM_1FX0p"
      },
      "source": [
        "def build_result(test_set, pred_inverse_val_y, real_inverse_val_y):\r\n",
        "  val_result = pd.DataFrame({'real_m12': df['AUM_M12'][test_set.index], 'real_m13': real_inverse_val_y, 'pred_m13': pred_inverse_val_y})\r\n",
        "  val_result['real_m13'] += 0.01\r\n",
        "  val_result['error(%)'] = (val_result['pred_m13'] - val_result['real_m13'])/val_result['real_m13']*100\r\n",
        "  val_result['abs_error(%))'] = abs(val_result['error(%)'])\r\n",
        "  total_asset = sum(val_result['real_m13'])\r\n",
        "  val_result['adj_abs_error(%)'] = val_result['abs_error(%))']*val_result['real_m13']/total_asset*100\r\n",
        "  return val_result"
      ],
      "execution_count": null,
      "outputs": []
    },
    {
      "cell_type": "markdown",
      "metadata": {
        "id": "31gDmQcSCs77"
      },
      "source": [
        "---\r\n",
        "1. train_x_1"
      ]
    },
    {
      "cell_type": "code",
      "metadata": {
        "colab": {
          "base_uri": "https://localhost:8080/"
        },
        "id": "y_yqB1bKCURn",
        "outputId": "b6afb885-aef7-4544-b862-f8202e549957"
      },
      "source": [
        "model = model_3()\r\n",
        "train_x_1_lstm = np.array(train_x_1.values).reshape(train_x_1.shape[0], 12, 15)\r\n",
        "train_y_1_lstm = np.array(train_y_1)\r\n",
        "test_x_1_lstm = np.array(test_x_1.values).reshape(test_x_1.shape[0], 12, 15)\r\n",
        "test_y_1_lstm = np.array(test_y_1)\r\n",
        "\r\n",
        "model.fit(train_x_1_lstm, train_y_1_lstm, batch_size = 32, epochs = 6)"
      ],
      "execution_count": null,
      "outputs": [
        {
          "output_type": "stream",
          "text": [
            "Epoch 1/6\n",
            "1095/1095 [==============================] - 8s 5ms/step - loss: 0.0018\n",
            "Epoch 2/6\n",
            "1095/1095 [==============================] - 5s 5ms/step - loss: 0.0011\n",
            "Epoch 3/6\n",
            "1095/1095 [==============================] - 5s 5ms/step - loss: 0.0011\n",
            "Epoch 4/6\n",
            "1095/1095 [==============================] - 5s 5ms/step - loss: 9.6645e-04\n",
            "Epoch 5/6\n",
            "1095/1095 [==============================] - 5s 5ms/step - loss: 9.4936e-04\n",
            "Epoch 6/6\n",
            "1095/1095 [==============================] - 5s 5ms/step - loss: 9.9808e-04\n"
          ],
          "name": "stdout"
        },
        {
          "output_type": "execute_result",
          "data": {
            "text/plain": [
              "<tensorflow.python.keras.callbacks.History at 0x7f90b5ce4400>"
            ]
          },
          "metadata": {
            "tags": []
          },
          "execution_count": 35
        }
      ]
    },
    {
      "cell_type": "code",
      "metadata": {
        "colab": {
          "base_uri": "https://localhost:8080/",
          "height": 345
        },
        "id": "SqErljHQCUUD",
        "outputId": "c31be987-0da7-4fcb-d043-1b38fcbef37f"
      },
      "source": [
        "pred_test_y_1_lstm = model.predict(test_x_1_lstm)\r\n",
        "pred_inverse_test_y_1_lstm = inverse_transform(pred_test_y_1_lstm)\r\n",
        "real_inverse_test_y_1_lstm = inverse_transform(test_y_1_lstm)\r\n",
        "test_1_result = build_result(pred_inverse_test_y_1_lstm, real_inverse_test_y_1_lstm)\r\n",
        "test_1_result.sort_values('adj_abs_error(%)', ascending = False)[:10]"
      ],
      "execution_count": null,
      "outputs": [
        {
          "output_type": "execute_result",
          "data": {
            "text/html": [
              "<div>\n",
              "<style scoped>\n",
              "    .dataframe tbody tr th:only-of-type {\n",
              "        vertical-align: middle;\n",
              "    }\n",
              "\n",
              "    .dataframe tbody tr th {\n",
              "        vertical-align: top;\n",
              "    }\n",
              "\n",
              "    .dataframe thead th {\n",
              "        text-align: right;\n",
              "    }\n",
              "</style>\n",
              "<table border=\"1\" class=\"dataframe\">\n",
              "  <thead>\n",
              "    <tr style=\"text-align: right;\">\n",
              "      <th></th>\n",
              "      <th>real_m13</th>\n",
              "      <th>pred_m13</th>\n",
              "      <th>error(%)</th>\n",
              "      <th>abs_error(%))</th>\n",
              "      <th>adj_abs_error(%)</th>\n",
              "    </tr>\n",
              "  </thead>\n",
              "  <tbody>\n",
              "    <tr>\n",
              "      <th>4182</th>\n",
              "      <td>3602871.01</td>\n",
              "      <td>5453.927246</td>\n",
              "      <td>-99.848623</td>\n",
              "      <td>99.848623</td>\n",
              "      <td>193.576924</td>\n",
              "    </tr>\n",
              "    <tr>\n",
              "      <th>1839</th>\n",
              "      <td>1998725.01</td>\n",
              "      <td>3651.846924</td>\n",
              "      <td>-99.817291</td>\n",
              "      <td>99.817291</td>\n",
              "      <td>107.354837</td>\n",
              "    </tr>\n",
              "    <tr>\n",
              "      <th>5245</th>\n",
              "      <td>1770579.01</td>\n",
              "      <td>15682.220703</td>\n",
              "      <td>-99.114289</td>\n",
              "      <td>99.114289</td>\n",
              "      <td>94.430953</td>\n",
              "    </tr>\n",
              "    <tr>\n",
              "      <th>6630</th>\n",
              "      <td>1645209.01</td>\n",
              "      <td>10803.414062</td>\n",
              "      <td>-99.343341</td>\n",
              "      <td>99.343341</td>\n",
              "      <td>87.947324</td>\n",
              "    </tr>\n",
              "    <tr>\n",
              "      <th>2463</th>\n",
              "      <td>1565562.01</td>\n",
              "      <td>3181.074463</td>\n",
              "      <td>-99.796809</td>\n",
              "      <td>99.796809</td>\n",
              "      <td>84.071679</td>\n",
              "    </tr>\n",
              "    <tr>\n",
              "      <th>13543</th>\n",
              "      <td>1520697.01</td>\n",
              "      <td>3605.447754</td>\n",
              "      <td>-99.762908</td>\n",
              "      <td>99.762908</td>\n",
              "      <td>81.634659</td>\n",
              "    </tr>\n",
              "    <tr>\n",
              "      <th>9106</th>\n",
              "      <td>1464144.01</td>\n",
              "      <td>14009.318359</td>\n",
              "      <td>-99.043173</td>\n",
              "      <td>99.043173</td>\n",
              "      <td>78.031712</td>\n",
              "    </tr>\n",
              "    <tr>\n",
              "      <th>11021</th>\n",
              "      <td>1425704.01</td>\n",
              "      <td>6485.831055</td>\n",
              "      <td>-99.545079</td>\n",
              "      <td>99.545079</td>\n",
              "      <td>76.368095</td>\n",
              "    </tr>\n",
              "    <tr>\n",
              "      <th>8356</th>\n",
              "      <td>1373234.01</td>\n",
              "      <td>6871.467285</td>\n",
              "      <td>-99.499614</td>\n",
              "      <td>99.499614</td>\n",
              "      <td>73.523934</td>\n",
              "    </tr>\n",
              "    <tr>\n",
              "      <th>1297</th>\n",
              "      <td>1291783.01</td>\n",
              "      <td>3103.772705</td>\n",
              "      <td>-99.759730</td>\n",
              "      <td>99.759730</td>\n",
              "      <td>69.343798</td>\n",
              "    </tr>\n",
              "  </tbody>\n",
              "</table>\n",
              "</div>"
            ],
            "text/plain": [
              "         real_m13      pred_m13   error(%)  abs_error(%))  adj_abs_error(%)\n",
              "4182   3602871.01   5453.927246 -99.848623      99.848623        193.576924\n",
              "1839   1998725.01   3651.846924 -99.817291      99.817291        107.354837\n",
              "5245   1770579.01  15682.220703 -99.114289      99.114289         94.430953\n",
              "6630   1645209.01  10803.414062 -99.343341      99.343341         87.947324\n",
              "2463   1565562.01   3181.074463 -99.796809      99.796809         84.071679\n",
              "13543  1520697.01   3605.447754 -99.762908      99.762908         81.634659\n",
              "9106   1464144.01  14009.318359 -99.043173      99.043173         78.031712\n",
              "11021  1425704.01   6485.831055 -99.545079      99.545079         76.368095\n",
              "8356   1373234.01   6871.467285 -99.499614      99.499614         73.523934\n",
              "1297   1291783.01   3103.772705 -99.759730      99.759730         69.343798"
            ]
          },
          "metadata": {
            "tags": []
          },
          "execution_count": 36
        }
      ]
    },
    {
      "cell_type": "markdown",
      "metadata": {
        "id": "DoWWD47HG5iF"
      },
      "source": [
        "* train_x_2"
      ]
    },
    {
      "cell_type": "code",
      "metadata": {
        "colab": {
          "base_uri": "https://localhost:8080/"
        },
        "id": "aXfMfXEXCUWz",
        "outputId": "cbb86dfa-e61c-4ac7-bd46-209bf80012d8"
      },
      "source": [
        "model = model_2()\r\n",
        "train_x_2_lstm = np.array(train_x_2.values).reshape(train_x_2.shape[0], 12, 15)\r\n",
        "train_y_2_lstm = np.array(train_y_2)\r\n",
        "test_x_2_lstm = np.array(test_x_2.values).reshape(test_x_2.shape[0], 12, 15)\r\n",
        "test_y_2_lstm = np.array(test_y_2)\r\n",
        "\r\n",
        "model.fit(train_x_2_lstm, train_y_2_lstm, batch_size = 32, epochs = 10, validation_split = 0.2)"
      ],
      "execution_count": null,
      "outputs": [
        {
          "output_type": "stream",
          "text": [
            "Epoch 1/10\n",
            "876/876 [==============================] - 8s 6ms/step - loss: 0.0030 - val_loss: 0.0024\n",
            "Epoch 2/10\n",
            "876/876 [==============================] - 5s 6ms/step - loss: 0.0023 - val_loss: 0.0020\n",
            "Epoch 3/10\n",
            "876/876 [==============================] - 5s 6ms/step - loss: 0.0020 - val_loss: 0.0021\n",
            "Epoch 4/10\n",
            "876/876 [==============================] - 5s 6ms/step - loss: 0.0019 - val_loss: 0.0018\n",
            "Epoch 5/10\n",
            "876/876 [==============================] - 5s 6ms/step - loss: 0.0018 - val_loss: 0.0017\n",
            "Epoch 6/10\n",
            "876/876 [==============================] - 5s 6ms/step - loss: 0.0018 - val_loss: 0.0018\n",
            "Epoch 7/10\n",
            "876/876 [==============================] - 5s 6ms/step - loss: 0.0018 - val_loss: 0.0018\n",
            "Epoch 8/10\n",
            "876/876 [==============================] - 5s 6ms/step - loss: 0.0018 - val_loss: 0.0018\n",
            "Epoch 9/10\n",
            "876/876 [==============================] - 5s 6ms/step - loss: 0.0017 - val_loss: 0.0017\n",
            "Epoch 10/10\n",
            "876/876 [==============================] - 5s 6ms/step - loss: 0.0018 - val_loss: 0.0017\n"
          ],
          "name": "stdout"
        },
        {
          "output_type": "execute_result",
          "data": {
            "text/plain": [
              "<tensorflow.python.keras.callbacks.History at 0x7f90b4b5aba8>"
            ]
          },
          "metadata": {
            "tags": []
          },
          "execution_count": 37
        }
      ]
    },
    {
      "cell_type": "code",
      "metadata": {
        "colab": {
          "base_uri": "https://localhost:8080/",
          "height": 345
        },
        "id": "TKUoNUFIHAhC",
        "outputId": "ef02cbdc-6bed-43a0-ee84-343a12310bc2"
      },
      "source": [
        "pred_test_y_2_lstm = model.predict(test_x_2_lstm)\r\n",
        "pred_inverse_test_y_2_lstm = inverse_transform(pred_test_y_2_lstm)\r\n",
        "real_inverse_test_y_2_lstm = inverse_transform(test_y_2_lstm)\r\n",
        "test_2_result = build_result(pred_inverse_test_y_2_lstm, real_inverse_test_y_2_lstm)\r\n",
        "test_2_result.sort_values('adj_abs_error(%)', ascending = False)[:10]"
      ],
      "execution_count": null,
      "outputs": [
        {
          "output_type": "execute_result",
          "data": {
            "text/html": [
              "<div>\n",
              "<style scoped>\n",
              "    .dataframe tbody tr th:only-of-type {\n",
              "        vertical-align: middle;\n",
              "    }\n",
              "\n",
              "    .dataframe tbody tr th {\n",
              "        vertical-align: top;\n",
              "    }\n",
              "\n",
              "    .dataframe thead th {\n",
              "        text-align: right;\n",
              "    }\n",
              "</style>\n",
              "<table border=\"1\" class=\"dataframe\">\n",
              "  <thead>\n",
              "    <tr style=\"text-align: right;\">\n",
              "      <th></th>\n",
              "      <th>real_m13</th>\n",
              "      <th>pred_m13</th>\n",
              "      <th>error(%)</th>\n",
              "      <th>abs_error(%))</th>\n",
              "      <th>adj_abs_error(%)</th>\n",
              "    </tr>\n",
              "  </thead>\n",
              "  <tbody>\n",
              "    <tr>\n",
              "      <th>11044</th>\n",
              "      <td>5760478.01</td>\n",
              "      <td>18809.359375</td>\n",
              "      <td>-99.673476</td>\n",
              "      <td>99.673476</td>\n",
              "      <td>78.164580</td>\n",
              "    </tr>\n",
              "    <tr>\n",
              "      <th>11610</th>\n",
              "      <td>4480372.01</td>\n",
              "      <td>133103.281250</td>\n",
              "      <td>-97.029191</td>\n",
              "      <td>97.029191</td>\n",
              "      <td>59.181826</td>\n",
              "    </tr>\n",
              "    <tr>\n",
              "      <th>591</th>\n",
              "      <td>3922718.01</td>\n",
              "      <td>51315.695312</td>\n",
              "      <td>-98.691833</td>\n",
              "      <td>98.691833</td>\n",
              "      <td>52.703588</td>\n",
              "    </tr>\n",
              "    <tr>\n",
              "      <th>5150</th>\n",
              "      <td>3371403.01</td>\n",
              "      <td>61145.960938</td>\n",
              "      <td>-98.186335</td>\n",
              "      <td>98.186335</td>\n",
              "      <td>45.064400</td>\n",
              "    </tr>\n",
              "    <tr>\n",
              "      <th>14176</th>\n",
              "      <td>2591697.01</td>\n",
              "      <td>69419.789062</td>\n",
              "      <td>-97.321454</td>\n",
              "      <td>97.321454</td>\n",
              "      <td>34.337185</td>\n",
              "    </tr>\n",
              "    <tr>\n",
              "      <th>6305</th>\n",
              "      <td>2226589.01</td>\n",
              "      <td>16543.730469</td>\n",
              "      <td>-99.256992</td>\n",
              "      <td>99.256992</td>\n",
              "      <td>30.086595</td>\n",
              "    </tr>\n",
              "    <tr>\n",
              "      <th>10863</th>\n",
              "      <td>2019881.01</td>\n",
              "      <td>4891.362305</td>\n",
              "      <td>-99.757839</td>\n",
              "      <td>99.757839</td>\n",
              "      <td>27.431193</td>\n",
              "    </tr>\n",
              "    <tr>\n",
              "      <th>14997</th>\n",
              "      <td>1724489.01</td>\n",
              "      <td>18477.402344</td>\n",
              "      <td>-98.928529</td>\n",
              "      <td>98.928529</td>\n",
              "      <td>23.224900</td>\n",
              "    </tr>\n",
              "    <tr>\n",
              "      <th>11800</th>\n",
              "      <td>1551401.01</td>\n",
              "      <td>15250.375977</td>\n",
              "      <td>-99.016993</td>\n",
              "      <td>99.016993</td>\n",
              "      <td>20.912487</td>\n",
              "    </tr>\n",
              "    <tr>\n",
              "      <th>785</th>\n",
              "      <td>1597248.01</td>\n",
              "      <td>64904.054688</td>\n",
              "      <td>-95.936507</td>\n",
              "      <td>95.936507</td>\n",
              "      <td>20.860664</td>\n",
              "    </tr>\n",
              "  </tbody>\n",
              "</table>\n",
              "</div>"
            ],
            "text/plain": [
              "         real_m13       pred_m13   error(%)  abs_error(%))  adj_abs_error(%)\n",
              "11044  5760478.01   18809.359375 -99.673476      99.673476         78.164580\n",
              "11610  4480372.01  133103.281250 -97.029191      97.029191         59.181826\n",
              "591    3922718.01   51315.695312 -98.691833      98.691833         52.703588\n",
              "5150   3371403.01   61145.960938 -98.186335      98.186335         45.064400\n",
              "14176  2591697.01   69419.789062 -97.321454      97.321454         34.337185\n",
              "6305   2226589.01   16543.730469 -99.256992      99.256992         30.086595\n",
              "10863  2019881.01    4891.362305 -99.757839      99.757839         27.431193\n",
              "14997  1724489.01   18477.402344 -98.928529      98.928529         23.224900\n",
              "11800  1551401.01   15250.375977 -99.016993      99.016993         20.912487\n",
              "785    1597248.01   64904.054688 -95.936507      95.936507         20.860664"
            ]
          },
          "metadata": {
            "tags": []
          },
          "execution_count": 38
        }
      ]
    },
    {
      "cell_type": "markdown",
      "metadata": {
        "id": "ryRys7Y-HAqe"
      },
      "source": [
        "* train_x_3"
      ]
    },
    {
      "cell_type": "code",
      "metadata": {
        "colab": {
          "base_uri": "https://localhost:8080/"
        },
        "id": "eyTT4FDgHAz1",
        "outputId": "9bbbfbe1-a3e1-4e70-8fff-0f87fc456fad"
      },
      "source": [
        "model = model_7()\r\n",
        "train_x_3_lstm = np.array(train_x_3.values).reshape(train_x_3.shape[0], 12, 15)\r\n",
        "train_y_3_lstm = np.array(train_y_3)\r\n",
        "test_x_3_lstm = np.array(test_x_3.values).reshape(test_x_3.shape[0], 12, 15)\r\n",
        "test_y_3_lstm = np.array(test_y_3)\r\n",
        "\r\n",
        "model.fit(train_x_3_lstm, train_y_3_lstm, batch_size = 32, epochs = 10)"
      ],
      "execution_count": null,
      "outputs": [
        {
          "output_type": "stream",
          "text": [
            "Epoch 1/10\n",
            "1095/1095 [==============================] - 8s 5ms/step - loss: 0.0085\n",
            "Epoch 2/10\n",
            "1095/1095 [==============================] - 5s 5ms/step - loss: 0.0055\n",
            "Epoch 3/10\n",
            "1095/1095 [==============================] - 5s 5ms/step - loss: 0.0051\n",
            "Epoch 4/10\n",
            "1095/1095 [==============================] - 5s 5ms/step - loss: 0.0050\n",
            "Epoch 5/10\n",
            "1095/1095 [==============================] - 6s 5ms/step - loss: 0.0049\n",
            "Epoch 6/10\n",
            "1095/1095 [==============================] - 5s 5ms/step - loss: 0.0051\n",
            "Epoch 7/10\n",
            "1095/1095 [==============================] - 6s 5ms/step - loss: 0.0049\n",
            "Epoch 8/10\n",
            "1095/1095 [==============================] - 6s 5ms/step - loss: 0.0049\n",
            "Epoch 9/10\n",
            "1095/1095 [==============================] - 6s 5ms/step - loss: 0.0049\n",
            "Epoch 10/10\n",
            "1095/1095 [==============================] - 6s 5ms/step - loss: 0.0048\n"
          ],
          "name": "stdout"
        },
        {
          "output_type": "execute_result",
          "data": {
            "text/plain": [
              "<tensorflow.python.keras.callbacks.History at 0x7f90ad390400>"
            ]
          },
          "metadata": {
            "tags": []
          },
          "execution_count": 42
        }
      ]
    },
    {
      "cell_type": "code",
      "metadata": {
        "colab": {
          "base_uri": "https://localhost:8080/",
          "height": 345
        },
        "id": "DV8lMWb_HA2j",
        "outputId": "047c330a-fa69-4999-d006-bd4c4ec45495"
      },
      "source": [
        "pred_test_y_3_lstm = model.predict(test_x_3_lstm)\r\n",
        "pred_inverse_test_y_3_lstm = inverse_transform(pred_test_y_3_lstm)\r\n",
        "real_inverse_test_y_3_lstm = inverse_transform(test_y_3_lstm)\r\n",
        "test_3_result = build_result(pred_inverse_test_y_3_lstm, real_inverse_test_y_3_lstm)\r\n",
        "test_3_result.sort_values('adj_abs_error(%)', ascending = False)[:10]"
      ],
      "execution_count": null,
      "outputs": [
        {
          "output_type": "execute_result",
          "data": {
            "text/html": [
              "<div>\n",
              "<style scoped>\n",
              "    .dataframe tbody tr th:only-of-type {\n",
              "        vertical-align: middle;\n",
              "    }\n",
              "\n",
              "    .dataframe tbody tr th {\n",
              "        vertical-align: top;\n",
              "    }\n",
              "\n",
              "    .dataframe thead th {\n",
              "        text-align: right;\n",
              "    }\n",
              "</style>\n",
              "<table border=\"1\" class=\"dataframe\">\n",
              "  <thead>\n",
              "    <tr style=\"text-align: right;\">\n",
              "      <th></th>\n",
              "      <th>real_m13</th>\n",
              "      <th>pred_m13</th>\n",
              "      <th>error(%)</th>\n",
              "      <th>abs_error(%))</th>\n",
              "      <th>adj_abs_error(%)</th>\n",
              "    </tr>\n",
              "  </thead>\n",
              "  <tbody>\n",
              "    <tr>\n",
              "      <th>14716</th>\n",
              "      <td>7392850.01</td>\n",
              "      <td>109590.750000</td>\n",
              "      <td>-98.517612</td>\n",
              "      <td>98.517612</td>\n",
              "      <td>21.149233</td>\n",
              "    </tr>\n",
              "    <tr>\n",
              "      <th>5555</th>\n",
              "      <td>6905775.01</td>\n",
              "      <td>415054.937500</td>\n",
              "      <td>-93.989741</td>\n",
              "      <td>93.989741</td>\n",
              "      <td>18.847847</td>\n",
              "    </tr>\n",
              "    <tr>\n",
              "      <th>2669</th>\n",
              "      <td>5241997.01</td>\n",
              "      <td>744540.687500</td>\n",
              "      <td>-85.796621</td>\n",
              "      <td>85.796621</td>\n",
              "      <td>13.059779</td>\n",
              "    </tr>\n",
              "    <tr>\n",
              "      <th>14554</th>\n",
              "      <td>4558041.01</td>\n",
              "      <td>317992.218750</td>\n",
              "      <td>-93.023489</td>\n",
              "      <td>93.023489</td>\n",
              "      <td>12.312315</td>\n",
              "    </tr>\n",
              "    <tr>\n",
              "      <th>13373</th>\n",
              "      <td>3917475.01</td>\n",
              "      <td>312962.156250</td>\n",
              "      <td>-92.011126</td>\n",
              "      <td>92.011126</td>\n",
              "      <td>10.466836</td>\n",
              "    </tr>\n",
              "    <tr>\n",
              "      <th>14567</th>\n",
              "      <td>4013772.01</td>\n",
              "      <td>463069.093750</td>\n",
              "      <td>-88.462995</td>\n",
              "      <td>88.462995</td>\n",
              "      <td>10.310582</td>\n",
              "    </tr>\n",
              "    <tr>\n",
              "      <th>14300</th>\n",
              "      <td>3223467.01</td>\n",
              "      <td>165801.531250</td>\n",
              "      <td>-94.856422</td>\n",
              "      <td>94.856422</td>\n",
              "      <td>8.878893</td>\n",
              "    </tr>\n",
              "    <tr>\n",
              "      <th>1681</th>\n",
              "      <td>3155289.01</td>\n",
              "      <td>137975.656250</td>\n",
              "      <td>-95.627163</td>\n",
              "      <td>95.627163</td>\n",
              "      <td>8.761718</td>\n",
              "    </tr>\n",
              "    <tr>\n",
              "      <th>8635</th>\n",
              "      <td>3247855.01</td>\n",
              "      <td>275830.156250</td>\n",
              "      <td>-91.507313</td>\n",
              "      <td>91.507313</td>\n",
              "      <td>8.630209</td>\n",
              "    </tr>\n",
              "    <tr>\n",
              "      <th>14789</th>\n",
              "      <td>3127640.01</td>\n",
              "      <td>234997.921875</td>\n",
              "      <td>-92.486414</td>\n",
              "      <td>92.486414</td>\n",
              "      <td>8.399696</td>\n",
              "    </tr>\n",
              "  </tbody>\n",
              "</table>\n",
              "</div>"
            ],
            "text/plain": [
              "         real_m13       pred_m13   error(%)  abs_error(%))  adj_abs_error(%)\n",
              "14716  7392850.01  109590.750000 -98.517612      98.517612         21.149233\n",
              "5555   6905775.01  415054.937500 -93.989741      93.989741         18.847847\n",
              "2669   5241997.01  744540.687500 -85.796621      85.796621         13.059779\n",
              "14554  4558041.01  317992.218750 -93.023489      93.023489         12.312315\n",
              "13373  3917475.01  312962.156250 -92.011126      92.011126         10.466836\n",
              "14567  4013772.01  463069.093750 -88.462995      88.462995         10.310582\n",
              "14300  3223467.01  165801.531250 -94.856422      94.856422          8.878893\n",
              "1681   3155289.01  137975.656250 -95.627163      95.627163          8.761718\n",
              "8635   3247855.01  275830.156250 -91.507313      91.507313          8.630209\n",
              "14789  3127640.01  234997.921875 -92.486414      92.486414          8.399696"
            ]
          },
          "metadata": {
            "tags": []
          },
          "execution_count": 43
        }
      ]
    },
    {
      "cell_type": "markdown",
      "metadata": {
        "id": "PQIt_b0pHBFi"
      },
      "source": [
        "* train_x_4"
      ]
    },
    {
      "cell_type": "code",
      "metadata": {
        "colab": {
          "base_uri": "https://localhost:8080/"
        },
        "id": "oxc48cvhHBOB",
        "outputId": "0ad6bfd1-bf20-4cb9-8465-4a9ee05a39e7"
      },
      "source": [
        "model = model_7()\r\n",
        "train_x_4_lstm = np.array(train_x_4.values).reshape(train_x_4.shape[0], 12, 15)\r\n",
        "train_y_4_lstm = np.array(train_y_4)\r\n",
        "test_x_4_lstm = np.array(test_x_4.values).reshape(test_x_4.shape[0], 12, 15)\r\n",
        "test_y_4_lstm = np.array(test_y_4)\r\n",
        "\r\n",
        "model.fit(train_x_4_lstm, train_y_4_lstm, batch_size = 32, epochs = 17)"
      ],
      "execution_count": null,
      "outputs": [
        {
          "output_type": "stream",
          "text": [
            "Epoch 1/17\n",
            "1095/1095 [==============================] - 8s 5ms/step - loss: 0.0283\n",
            "Epoch 2/17\n",
            "1095/1095 [==============================] - 5s 5ms/step - loss: 0.0153\n",
            "Epoch 3/17\n",
            "1095/1095 [==============================] - 6s 5ms/step - loss: 0.0142\n",
            "Epoch 4/17\n",
            "1095/1095 [==============================] - 6s 5ms/step - loss: 0.0142\n",
            "Epoch 5/17\n",
            "1095/1095 [==============================] - 6s 5ms/step - loss: 0.0138\n",
            "Epoch 6/17\n",
            "1095/1095 [==============================] - 5s 5ms/step - loss: 0.0139\n",
            "Epoch 7/17\n",
            "1095/1095 [==============================] - 6s 5ms/step - loss: 0.0139\n",
            "Epoch 8/17\n",
            "1095/1095 [==============================] - 6s 5ms/step - loss: 0.0138\n",
            "Epoch 9/17\n",
            "1095/1095 [==============================] - 6s 5ms/step - loss: 0.0138\n",
            "Epoch 10/17\n",
            "1095/1095 [==============================] - 5s 5ms/step - loss: 0.0134\n",
            "Epoch 11/17\n",
            "1095/1095 [==============================] - 6s 5ms/step - loss: 0.0137\n",
            "Epoch 12/17\n",
            "1095/1095 [==============================] - 6s 5ms/step - loss: 0.0136\n",
            "Epoch 13/17\n",
            "1095/1095 [==============================] - 6s 5ms/step - loss: 0.0141\n",
            "Epoch 14/17\n",
            "1095/1095 [==============================] - 6s 5ms/step - loss: 0.0138\n",
            "Epoch 15/17\n",
            "1095/1095 [==============================] - 6s 5ms/step - loss: 0.0132\n",
            "Epoch 16/17\n",
            "1095/1095 [==============================] - 6s 5ms/step - loss: 0.0138\n",
            "Epoch 17/17\n",
            "1095/1095 [==============================] - 6s 5ms/step - loss: 0.0135\n"
          ],
          "name": "stdout"
        },
        {
          "output_type": "execute_result",
          "data": {
            "text/plain": [
              "<tensorflow.python.keras.callbacks.History at 0x7f90ac824780>"
            ]
          },
          "metadata": {
            "tags": []
          },
          "execution_count": 44
        }
      ]
    },
    {
      "cell_type": "code",
      "metadata": {
        "colab": {
          "base_uri": "https://localhost:8080/",
          "height": 345
        },
        "id": "-xz7pMCuHBQn",
        "outputId": "faddcf97-ca5c-45b6-fbff-bc2359fefddc"
      },
      "source": [
        "pred_test_y_4_lstm = model.predict(test_x_4_lstm)\r\n",
        "pred_inverse_test_y_4_lstm = inverse_transform(pred_test_y_4_lstm)\r\n",
        "real_inverse_test_y_4_lstm = inverse_transform(test_y_4_lstm)\r\n",
        "test_4_result = build_result(pred_inverse_test_y_4_lstm, real_inverse_test_y_4_lstm)\r\n",
        "test_4_result.sort_values('adj_abs_error(%)', ascending = False)[:10]"
      ],
      "execution_count": null,
      "outputs": [
        {
          "output_type": "execute_result",
          "data": {
            "text/html": [
              "<div>\n",
              "<style scoped>\n",
              "    .dataframe tbody tr th:only-of-type {\n",
              "        vertical-align: middle;\n",
              "    }\n",
              "\n",
              "    .dataframe tbody tr th {\n",
              "        vertical-align: top;\n",
              "    }\n",
              "\n",
              "    .dataframe thead th {\n",
              "        text-align: right;\n",
              "    }\n",
              "</style>\n",
              "<table border=\"1\" class=\"dataframe\">\n",
              "  <thead>\n",
              "    <tr style=\"text-align: right;\">\n",
              "      <th></th>\n",
              "      <th>real_m13</th>\n",
              "      <th>pred_m13</th>\n",
              "      <th>error(%)</th>\n",
              "      <th>abs_error(%))</th>\n",
              "      <th>adj_abs_error(%)</th>\n",
              "    </tr>\n",
              "  </thead>\n",
              "  <tbody>\n",
              "    <tr>\n",
              "      <th>6586</th>\n",
              "      <td>7833641.01</td>\n",
              "      <td>9.028855e+05</td>\n",
              "      <td>-88.474255</td>\n",
              "      <td>88.474255</td>\n",
              "      <td>3.980837</td>\n",
              "    </tr>\n",
              "    <tr>\n",
              "      <th>7511</th>\n",
              "      <td>7452108.01</td>\n",
              "      <td>8.610088e+05</td>\n",
              "      <td>-88.446104</td>\n",
              "      <td>88.446104</td>\n",
              "      <td>3.785748</td>\n",
              "    </tr>\n",
              "    <tr>\n",
              "      <th>13519</th>\n",
              "      <td>10143537.01</td>\n",
              "      <td>3.817637e+06</td>\n",
              "      <td>-62.363848</td>\n",
              "      <td>62.363848</td>\n",
              "      <td>3.633425</td>\n",
              "    </tr>\n",
              "    <tr>\n",
              "      <th>9746</th>\n",
              "      <td>3636166.01</td>\n",
              "      <td>9.793899e+06</td>\n",
              "      <td>169.346861</td>\n",
              "      <td>169.346861</td>\n",
              "      <td>3.536834</td>\n",
              "    </tr>\n",
              "    <tr>\n",
              "      <th>3432</th>\n",
              "      <td>2452399.01</td>\n",
              "      <td>8.336775e+06</td>\n",
              "      <td>239.943662</td>\n",
              "      <td>239.943662</td>\n",
              "      <td>3.379825</td>\n",
              "    </tr>\n",
              "    <tr>\n",
              "      <th>1995</th>\n",
              "      <td>6643524.01</td>\n",
              "      <td>1.608288e+06</td>\n",
              "      <td>-75.791645</td>\n",
              "      <td>75.791645</td>\n",
              "      <td>2.892103</td>\n",
              "    </tr>\n",
              "    <tr>\n",
              "      <th>10171</th>\n",
              "      <td>642622.01</td>\n",
              "      <td>5.284078e+06</td>\n",
              "      <td>722.268444</td>\n",
              "      <td>722.268444</td>\n",
              "      <td>2.665926</td>\n",
              "    </tr>\n",
              "    <tr>\n",
              "      <th>8210</th>\n",
              "      <td>8455875.01</td>\n",
              "      <td>3.846720e+06</td>\n",
              "      <td>-54.508315</td>\n",
              "      <td>54.508315</td>\n",
              "      <td>2.647373</td>\n",
              "    </tr>\n",
              "    <tr>\n",
              "      <th>8005</th>\n",
              "      <td>6510032.01</td>\n",
              "      <td>2.024999e+06</td>\n",
              "      <td>-68.894178</td>\n",
              "      <td>68.894178</td>\n",
              "      <td>2.576081</td>\n",
              "    </tr>\n",
              "    <tr>\n",
              "      <th>1571</th>\n",
              "      <td>5239933.01</td>\n",
              "      <td>8.845906e+05</td>\n",
              "      <td>-83.118284</td>\n",
              "      <td>83.118284</td>\n",
              "      <td>2.501590</td>\n",
              "    </tr>\n",
              "  </tbody>\n",
              "</table>\n",
              "</div>"
            ],
            "text/plain": [
              "          real_m13      pred_m13    error(%)  abs_error(%))  adj_abs_error(%)\n",
              "6586    7833641.01  9.028855e+05  -88.474255      88.474255          3.980837\n",
              "7511    7452108.01  8.610088e+05  -88.446104      88.446104          3.785748\n",
              "13519  10143537.01  3.817637e+06  -62.363848      62.363848          3.633425\n",
              "9746    3636166.01  9.793899e+06  169.346861     169.346861          3.536834\n",
              "3432    2452399.01  8.336775e+06  239.943662     239.943662          3.379825\n",
              "1995    6643524.01  1.608288e+06  -75.791645      75.791645          2.892103\n",
              "10171    642622.01  5.284078e+06  722.268444     722.268444          2.665926\n",
              "8210    8455875.01  3.846720e+06  -54.508315      54.508315          2.647373\n",
              "8005    6510032.01  2.024999e+06  -68.894178      68.894178          2.576081\n",
              "1571    5239933.01  8.845906e+05  -83.118284      83.118284          2.501590"
            ]
          },
          "metadata": {
            "tags": []
          },
          "execution_count": 45
        }
      ]
    },
    {
      "cell_type": "markdown",
      "metadata": {
        "id": "G_C8-9yMHBw-"
      },
      "source": [
        "## combine result and evaluate"
      ]
    },
    {
      "cell_type": "code",
      "metadata": {
        "colab": {
          "base_uri": "https://localhost:8080/",
          "height": 404
        },
        "id": "mtgF__PGHB36",
        "outputId": "f069cd38-0e7e-46db-de72-de6860a6c7c6"
      },
      "source": [
        "test_all_result = pd.DataFrame()\r\n",
        "pred = []\r\n",
        "pred.extend(test_1_result['pred_m13'])\r\n",
        "pred.extend(test_2_result['pred_m13'])\r\n",
        "pred.extend(test_3_result['pred_m13'])\r\n",
        "pred.extend(test_4_result['pred_m13'])\r\n",
        "test_all_result['pred_m13'] = pred\r\n",
        "\r\n",
        "real = []\r\n",
        "real.extend(test_1_result['real_m13'])\r\n",
        "real.extend(test_2_result['real_m13'])\r\n",
        "real.extend(test_3_result['real_m13'])\r\n",
        "real.extend(test_4_result['real_m13'])\r\n",
        "test_all_result['real_m13'] = real\r\n",
        "\r\n",
        "test_all_result['abs_error(%)'] = abs(test_all_result['real_m13'] - test_all_result['pred_m13'])/test_all_result['real_m13']\r\n",
        "total = sum(test_all_result['real_m13'])\r\n",
        "test_all_result['adj_abs_error(%)'] = test_all_result['abs_error(%)']*test_all_result['real_m13']/total\r\n",
        "\r\n",
        "test_all_result"
      ],
      "execution_count": null,
      "outputs": [
        {
          "output_type": "execute_result",
          "data": {
            "text/html": [
              "<div>\n",
              "<style scoped>\n",
              "    .dataframe tbody tr th:only-of-type {\n",
              "        vertical-align: middle;\n",
              "    }\n",
              "\n",
              "    .dataframe tbody tr th {\n",
              "        vertical-align: top;\n",
              "    }\n",
              "\n",
              "    .dataframe thead th {\n",
              "        text-align: right;\n",
              "    }\n",
              "</style>\n",
              "<table border=\"1\" class=\"dataframe\">\n",
              "  <thead>\n",
              "    <tr style=\"text-align: right;\">\n",
              "      <th></th>\n",
              "      <th>pred_m13</th>\n",
              "      <th>real_m13</th>\n",
              "      <th>abs_error(%)</th>\n",
              "      <th>adj_abs_error(%)</th>\n",
              "    </tr>\n",
              "  </thead>\n",
              "  <tbody>\n",
              "    <tr>\n",
              "      <th>0</th>\n",
              "      <td>5.705448e+03</td>\n",
              "      <td>5302.01</td>\n",
              "      <td>0.076091</td>\n",
              "      <td>1.852804e-08</td>\n",
              "    </tr>\n",
              "    <tr>\n",
              "      <th>1</th>\n",
              "      <td>3.717855e+03</td>\n",
              "      <td>16.01</td>\n",
              "      <td>231.220783</td>\n",
              "      <td>1.700087e-07</td>\n",
              "    </tr>\n",
              "    <tr>\n",
              "      <th>2</th>\n",
              "      <td>7.214376e+03</td>\n",
              "      <td>61194.01</td>\n",
              "      <td>0.882107</td>\n",
              "      <td>2.479036e-06</td>\n",
              "    </tr>\n",
              "    <tr>\n",
              "      <th>3</th>\n",
              "      <td>1.409413e+04</td>\n",
              "      <td>12707.01</td>\n",
              "      <td>0.109162</td>\n",
              "      <td>6.370417e-08</td>\n",
              "    </tr>\n",
              "    <tr>\n",
              "      <th>4</th>\n",
              "      <td>2.990962e+03</td>\n",
              "      <td>1.01</td>\n",
              "      <td>2960.348913</td>\n",
              "      <td>1.373148e-07</td>\n",
              "    </tr>\n",
              "    <tr>\n",
              "      <th>...</th>\n",
              "      <td>...</td>\n",
              "      <td>...</td>\n",
              "      <td>...</td>\n",
              "      <td>...</td>\n",
              "    </tr>\n",
              "    <tr>\n",
              "      <th>60023</th>\n",
              "      <td>4.934206e+05</td>\n",
              "      <td>390710.01</td>\n",
              "      <td>0.262882</td>\n",
              "      <td>4.717026e-06</td>\n",
              "    </tr>\n",
              "    <tr>\n",
              "      <th>60024</th>\n",
              "      <td>1.554501e+06</td>\n",
              "      <td>2025317.01</td>\n",
              "      <td>0.232465</td>\n",
              "      <td>2.162240e-05</td>\n",
              "    </tr>\n",
              "    <tr>\n",
              "      <th>60025</th>\n",
              "      <td>1.872081e+06</td>\n",
              "      <td>1923593.01</td>\n",
              "      <td>0.026779</td>\n",
              "      <td>2.365710e-06</td>\n",
              "    </tr>\n",
              "    <tr>\n",
              "      <th>60026</th>\n",
              "      <td>1.529051e+06</td>\n",
              "      <td>1530633.01</td>\n",
              "      <td>0.001034</td>\n",
              "      <td>7.266018e-08</td>\n",
              "    </tr>\n",
              "    <tr>\n",
              "      <th>60027</th>\n",
              "      <td>7.075544e+05</td>\n",
              "      <td>713585.01</td>\n",
              "      <td>0.008451</td>\n",
              "      <td>2.769593e-07</td>\n",
              "    </tr>\n",
              "  </tbody>\n",
              "</table>\n",
              "<p>60028 rows × 4 columns</p>\n",
              "</div>"
            ],
            "text/plain": [
              "           pred_m13    real_m13  abs_error(%)  adj_abs_error(%)\n",
              "0      5.705448e+03     5302.01      0.076091      1.852804e-08\n",
              "1      3.717855e+03       16.01    231.220783      1.700087e-07\n",
              "2      7.214376e+03    61194.01      0.882107      2.479036e-06\n",
              "3      1.409413e+04    12707.01      0.109162      6.370417e-08\n",
              "4      2.990962e+03        1.01   2960.348913      1.373148e-07\n",
              "...             ...         ...           ...               ...\n",
              "60023  4.934206e+05   390710.01      0.262882      4.717026e-06\n",
              "60024  1.554501e+06  2025317.01      0.232465      2.162240e-05\n",
              "60025  1.872081e+06  1923593.01      0.026779      2.365710e-06\n",
              "60026  1.529051e+06  1530633.01      0.001034      7.266018e-08\n",
              "60027  7.075544e+05   713585.01      0.008451      2.769593e-07\n",
              "\n",
              "[60028 rows x 4 columns]"
            ]
          },
          "metadata": {
            "tags": []
          },
          "execution_count": 49
        }
      ]
    },
    {
      "cell_type": "code",
      "metadata": {
        "id": "urwWO1uDK7ui"
      },
      "source": [
        "test_all_result.to_csv('test_all_result.csv', index = False)"
      ],
      "execution_count": null,
      "outputs": []
    },
    {
      "cell_type": "code",
      "metadata": {
        "colab": {
          "base_uri": "https://localhost:8080/"
        },
        "id": "eDcCAcayHB6q",
        "outputId": "96ee811f-9662-451f-8aa8-f29596d48233"
      },
      "source": [
        "mse = np.mean((test_all_result['pred_m13'] - test_all_result['real_m13'])**2)\r\n",
        "mae = np.mean(abs(test_all_result['pred_m13'] - test_all_result['real_m13']))\r\n",
        "mape = np.mean(test_all_result['abs_error(%)'])\r\n",
        "adj_mape = np.mean(test_all_result['adj_abs_error(%)'])\r\n",
        "\r\n",
        "print(f'MSE = {mse}')\r\n",
        "print(f'RMSE = {np.sqrt(mse)}')\r\n",
        "print(f'MAE = {mae}')\r\n",
        "print(f'MAPE = {mape}')\r\n",
        "print(f'adj.MAPE = {adj_mape}')"
      ],
      "execution_count": null,
      "outputs": [
        {
          "output_type": "stream",
          "text": [
            "MSE = 42912814733.16796\n",
            "RMSE = 207154.08451963472\n",
            "MAE = 52427.115808386705\n",
            "MAPE = 7900.877973370986\n",
            "adj.MAPE = 2.407736247826352e-06\n"
          ],
          "name": "stdout"
        }
      ]
    },
    {
      "cell_type": "code",
      "metadata": {
        "id": "ZECFuUESHB9X"
      },
      "source": [
        "# test_all_score = pd.Series({'mse': mse, 'rmse': np.sqrt(mse), 'mae': mae, 'mape': mape, 'adj.mape': adj_mape})\r\n",
        "# test_all_score.to_csv('test_all_score.csv', index = False)"
      ],
      "execution_count": null,
      "outputs": []
    },
    {
      "cell_type": "markdown",
      "metadata": {
        "id": "WWw0-LMiPH1d"
      },
      "source": [
        "## 取出倒數第二層, 加入客戶基本資料，再進行預測"
      ]
    },
    {
      "cell_type": "code",
      "metadata": {
        "id": "HMqLudkIY3Fg"
      },
      "source": [
        "def get_layer_output(model, x, index = -2):\r\n",
        "  layer = K.function([model.input], [model.layers[index].output])\r\n",
        "  return layer([x])[0]"
      ],
      "execution_count": null,
      "outputs": []
    },
    {
      "cell_type": "markdown",
      "metadata": {
        "id": "KHNjtMWQP5s9"
      },
      "source": [
        "---\r\n",
        "* train_x_1 + train_info_1\r\n",
        "* model_3\r\n",
        "* echoch = 6"
      ]
    },
    {
      "cell_type": "code",
      "metadata": {
        "id": "exwKCmdfUw1S"
      },
      "source": [
        "from tensorflow.keras import backend as K\r\n",
        "from tensorflow.keras.models import Model, load_model"
      ],
      "execution_count": null,
      "outputs": []
    },
    {
      "cell_type": "code",
      "metadata": {
        "id": "Xs8m2VYXsXvL"
      },
      "source": [
        "model = model_3()\r\n",
        "train_x_1_lstm = np.array(train_x_1.values).reshape(train_x_1.shape[0], 12, 15)\r\n",
        "train_y_1_lstm = np.array(train_y_1)\r\n",
        "model.fit(train_x_1_lstm, train_y_1_lstm, batch_size = 32, epochs = 6, verbose = 0)\r\n",
        "model.save('model_x_1.h5')\r\n",
        "\r\n",
        "model = load_model('model_x_1.h5')\r\n",
        "layer_1 = get_layer_output(model, train_x_1_lstm, -2)\r\n",
        "new_input_1 = np.append(layer, np.array(train_info_1), axis = 1)\r\n",
        "\r\n",
        "print('layer shape =', layer_1.shape)\r\n",
        "print('train_info_1 shape =', train_info_1.shape)\r\n",
        "print('new input shape =', new_input_1.shape)"
      ],
      "execution_count": null,
      "outputs": []
    },
    {
      "cell_type": "code",
      "metadata": {
        "colab": {
          "base_uri": "https://localhost:8080/"
        },
        "id": "hc2JjMkFcOBi",
        "outputId": "907fd130-4a50-455c-a514-3837be1d1625"
      },
      "source": [
        "def nn_model_1(input_dim):\r\n",
        "  nn_model_1 = Sequential()\r\n",
        "  nn_model_1.add(Dense(64, input_dim = input_dim, activation='relu'))\r\n",
        "  nn_model_1.add(Dense(32))\r\n",
        "  nn_model_1.add(Dense(1))\r\n",
        "  nn_model_1.compile(loss = 'mean_absolute_error', optimizer = 'adam')\r\n",
        "  return nn_model_1\r\n",
        "nn_model_1 = nn_model_1(new_input_1.shape[1])\r\n",
        "nn_model_1.fit(new_input_1, train_y_1_lstm, batch_size = 32, epochs = 20, verbose = 0)\r\n",
        "nn_model_1.save('nn_model_1.h5')\r\n",
        "print('Done')"
      ],
      "execution_count": null,
      "outputs": [
        {
          "output_type": "stream",
          "text": [
            "layer shape = (35016, 64)\n",
            "train_info_1 shape = (35016, 41)\n",
            "new input shape = (35016, 105)\n"
          ],
          "name": "stdout"
        }
      ]
    },
    {
      "cell_type": "code",
      "metadata": {
        "id": "K7GMv170dFyV"
      },
      "source": [
        "test_x_1_lstm = np.array(test_x_1.values).reshape(test_x_1.shape[0], 12, 15)\r\n",
        "test_y_1_lstm = np.array(test_y_1)\r\n",
        "\r\n",
        "model = load_model('model_x_1.h5')\r\n",
        "layer = get_layer_output(model, test_x_1_lstm, -2)\r\n",
        "new_input = np.append(layer, np.array(test_info_1), axis = 1)\r\n",
        "\r\n",
        "nn_model_1 = load_model('nn_model_1.h5')\r\n",
        "output = get_layer_output(nn_model_1, new_input, -1) # = model.predict\r\n",
        "\r\n",
        "pred_inverse_test_y_1_add = inverse_transform(output)\r\n",
        "real_inverse_test_y_1_add = inverse_transform(test_y_1_lstm)\r\n",
        "test_1_add_result = build_result(test_x_1, pred_inverse_test_y_1_add, real_inverse_test_y_1_add)"
      ],
      "execution_count": null,
      "outputs": []
    },
    {
      "cell_type": "code",
      "metadata": {
        "colab": {
          "base_uri": "https://localhost:8080/",
          "height": 644
        },
        "id": "DS8LVDeveiZ0",
        "outputId": "99f6ee8e-9cd7-4a23-d0aa-0c6e281f2201"
      },
      "source": [
        "test_1_add_result.sort_values('adj_abs_error(%)', ascending = False)[:20]"
      ],
      "execution_count": null,
      "outputs": [
        {
          "output_type": "execute_result",
          "data": {
            "text/html": [
              "<div>\n",
              "<style scoped>\n",
              "    .dataframe tbody tr th:only-of-type {\n",
              "        vertical-align: middle;\n",
              "    }\n",
              "\n",
              "    .dataframe tbody tr th {\n",
              "        vertical-align: top;\n",
              "    }\n",
              "\n",
              "    .dataframe thead th {\n",
              "        text-align: right;\n",
              "    }\n",
              "</style>\n",
              "<table border=\"1\" class=\"dataframe\">\n",
              "  <thead>\n",
              "    <tr style=\"text-align: right;\">\n",
              "      <th></th>\n",
              "      <th>real_m12</th>\n",
              "      <th>real_m13</th>\n",
              "      <th>pred_m13</th>\n",
              "      <th>error(%)</th>\n",
              "      <th>abs_error(%))</th>\n",
              "      <th>adj_abs_error(%)</th>\n",
              "    </tr>\n",
              "  </thead>\n",
              "  <tbody>\n",
              "    <tr>\n",
              "      <th>120012</th>\n",
              "      <td>2428</td>\n",
              "      <td>3602871.01</td>\n",
              "      <td>4686.416016</td>\n",
              "      <td>-99.869926</td>\n",
              "      <td>99.869926</td>\n",
              "      <td>193.618224</td>\n",
              "    </tr>\n",
              "    <tr>\n",
              "      <th>122330</th>\n",
              "      <td>66</td>\n",
              "      <td>1998725.01</td>\n",
              "      <td>4686.416016</td>\n",
              "      <td>-99.765530</td>\n",
              "      <td>99.765530</td>\n",
              "      <td>107.299167</td>\n",
              "    </tr>\n",
              "    <tr>\n",
              "      <th>50551</th>\n",
              "      <td>13027</td>\n",
              "      <td>1770579.01</td>\n",
              "      <td>4686.416016</td>\n",
              "      <td>-99.735317</td>\n",
              "      <td>99.735317</td>\n",
              "      <td>95.022637</td>\n",
              "    </tr>\n",
              "    <tr>\n",
              "      <th>34556</th>\n",
              "      <td>3144</td>\n",
              "      <td>1645209.01</td>\n",
              "      <td>4686.416016</td>\n",
              "      <td>-99.715148</td>\n",
              "      <td>99.715148</td>\n",
              "      <td>88.276480</td>\n",
              "    </tr>\n",
              "    <tr>\n",
              "      <th>50063</th>\n",
              "      <td>99</td>\n",
              "      <td>1565562.01</td>\n",
              "      <td>4686.416016</td>\n",
              "      <td>-99.700656</td>\n",
              "      <td>99.700656</td>\n",
              "      <td>83.990677</td>\n",
              "    </tr>\n",
              "    <tr>\n",
              "      <th>89622</th>\n",
              "      <td>432</td>\n",
              "      <td>1520697.01</td>\n",
              "      <td>4686.416016</td>\n",
              "      <td>-99.691824</td>\n",
              "      <td>99.691824</td>\n",
              "      <td>81.576492</td>\n",
              "    </tr>\n",
              "    <tr>\n",
              "      <th>20878</th>\n",
              "      <td>11089</td>\n",
              "      <td>1464144.01</td>\n",
              "      <td>4686.416016</td>\n",
              "      <td>-99.679921</td>\n",
              "      <td>99.679921</td>\n",
              "      <td>78.533377</td>\n",
              "    </tr>\n",
              "    <tr>\n",
              "      <th>115826</th>\n",
              "      <td>3949</td>\n",
              "      <td>1425704.01</td>\n",
              "      <td>4686.416016</td>\n",
              "      <td>-99.671291</td>\n",
              "      <td>99.671291</td>\n",
              "      <td>76.464921</td>\n",
              "    </tr>\n",
              "    <tr>\n",
              "      <th>40876</th>\n",
              "      <td>434</td>\n",
              "      <td>1373234.01</td>\n",
              "      <td>4686.416016</td>\n",
              "      <td>-99.658731</td>\n",
              "      <td>99.658731</td>\n",
              "      <td>73.641512</td>\n",
              "    </tr>\n",
              "    <tr>\n",
              "      <th>54840</th>\n",
              "      <td>112</td>\n",
              "      <td>1291783.01</td>\n",
              "      <td>4686.416016</td>\n",
              "      <td>-99.637213</td>\n",
              "      <td>99.637213</td>\n",
              "      <td>69.258636</td>\n",
              "    </tr>\n",
              "    <tr>\n",
              "      <th>176722</th>\n",
              "      <td>1406</td>\n",
              "      <td>1183726.01</td>\n",
              "      <td>4686.416016</td>\n",
              "      <td>-99.604096</td>\n",
              "      <td>99.604096</td>\n",
              "      <td>63.444091</td>\n",
              "    </tr>\n",
              "    <tr>\n",
              "      <th>192609</th>\n",
              "      <td>11182</td>\n",
              "      <td>1136075.01</td>\n",
              "      <td>4686.416016</td>\n",
              "      <td>-99.587491</td>\n",
              "      <td>99.587491</td>\n",
              "      <td>60.879992</td>\n",
              "    </tr>\n",
              "    <tr>\n",
              "      <th>154563</th>\n",
              "      <td>6702</td>\n",
              "      <td>1098798.01</td>\n",
              "      <td>4686.416016</td>\n",
              "      <td>-99.573496</td>\n",
              "      <td>99.573496</td>\n",
              "      <td>58.874118</td>\n",
              "    </tr>\n",
              "    <tr>\n",
              "      <th>56071</th>\n",
              "      <td>9673</td>\n",
              "      <td>1078969.01</td>\n",
              "      <td>4686.416016</td>\n",
              "      <td>-99.565658</td>\n",
              "      <td>99.565658</td>\n",
              "      <td>57.807120</td>\n",
              "    </tr>\n",
              "    <tr>\n",
              "      <th>60983</th>\n",
              "      <td>9578</td>\n",
              "      <td>1076969.01</td>\n",
              "      <td>4686.416016</td>\n",
              "      <td>-99.564851</td>\n",
              "      <td>99.564851</td>\n",
              "      <td>57.699500</td>\n",
              "    </tr>\n",
              "    <tr>\n",
              "      <th>183936</th>\n",
              "      <td>7588</td>\n",
              "      <td>1073520.01</td>\n",
              "      <td>4686.416016</td>\n",
              "      <td>-99.563453</td>\n",
              "      <td>99.563453</td>\n",
              "      <td>57.513909</td>\n",
              "    </tr>\n",
              "    <tr>\n",
              "      <th>97676</th>\n",
              "      <td>5759</td>\n",
              "      <td>972660.01</td>\n",
              "      <td>4686.416016</td>\n",
              "      <td>-99.518186</td>\n",
              "      <td>99.518186</td>\n",
              "      <td>52.086635</td>\n",
              "    </tr>\n",
              "    <tr>\n",
              "      <th>171987</th>\n",
              "      <td>8188</td>\n",
              "      <td>962350.01</td>\n",
              "      <td>4686.416016</td>\n",
              "      <td>-99.513024</td>\n",
              "      <td>99.513024</td>\n",
              "      <td>51.531854</td>\n",
              "    </tr>\n",
              "    <tr>\n",
              "      <th>32269</th>\n",
              "      <td>8579</td>\n",
              "      <td>917164.01</td>\n",
              "      <td>4686.416016</td>\n",
              "      <td>-99.489032</td>\n",
              "      <td>99.489032</td>\n",
              "      <td>49.100397</td>\n",
              "    </tr>\n",
              "    <tr>\n",
              "      <th>69035</th>\n",
              "      <td>13565</td>\n",
              "      <td>903854.01</td>\n",
              "      <td>4686.416016</td>\n",
              "      <td>-99.481507</td>\n",
              "      <td>99.481507</td>\n",
              "      <td>48.384186</td>\n",
              "    </tr>\n",
              "  </tbody>\n",
              "</table>\n",
              "</div>"
            ],
            "text/plain": [
              "        real_m12    real_m13  ...  abs_error(%))  adj_abs_error(%)\n",
              "120012      2428  3602871.01  ...      99.869926        193.618224\n",
              "122330        66  1998725.01  ...      99.765530        107.299167\n",
              "50551      13027  1770579.01  ...      99.735317         95.022637\n",
              "34556       3144  1645209.01  ...      99.715148         88.276480\n",
              "50063         99  1565562.01  ...      99.700656         83.990677\n",
              "89622        432  1520697.01  ...      99.691824         81.576492\n",
              "20878      11089  1464144.01  ...      99.679921         78.533377\n",
              "115826      3949  1425704.01  ...      99.671291         76.464921\n",
              "40876        434  1373234.01  ...      99.658731         73.641512\n",
              "54840        112  1291783.01  ...      99.637213         69.258636\n",
              "176722      1406  1183726.01  ...      99.604096         63.444091\n",
              "192609     11182  1136075.01  ...      99.587491         60.879992\n",
              "154563      6702  1098798.01  ...      99.573496         58.874118\n",
              "56071       9673  1078969.01  ...      99.565658         57.807120\n",
              "60983       9578  1076969.01  ...      99.564851         57.699500\n",
              "183936      7588  1073520.01  ...      99.563453         57.513909\n",
              "97676       5759   972660.01  ...      99.518186         52.086635\n",
              "171987      8188   962350.01  ...      99.513024         51.531854\n",
              "32269       8579   917164.01  ...      99.489032         49.100397\n",
              "69035      13565   903854.01  ...      99.481507         48.384186\n",
              "\n",
              "[20 rows x 6 columns]"
            ]
          },
          "metadata": {
            "tags": []
          },
          "execution_count": 87
        }
      ]
    },
    {
      "cell_type": "markdown",
      "metadata": {
        "id": "y5gJrdTTQEnQ"
      },
      "source": [
        "* train_x_2 + train_info_2\r\n",
        "* model_2\r\n",
        "* echoch = 10"
      ]
    },
    {
      "cell_type": "code",
      "metadata": {
        "colab": {
          "base_uri": "https://localhost:8080/"
        },
        "id": "pNglexieQSDv",
        "outputId": "d6c951c6-bd17-4919-fafd-31115e8812f3"
      },
      "source": [
        "model = model_2()\r\n",
        "train_x_2_lstm = np.array(train_x_2.values).reshape(train_x_2.shape[0], 12, 15)\r\n",
        "train_y_2_lstm = np.array(train_y_2)\r\n",
        "model.fit(train_x_1_lstm, train_y_1_lstm, batch_size = 32, epochs = 10, verbose = 0)\r\n",
        "model.save('model_x_2.h5')\r\n",
        "\r\n",
        "model = load_model('model_x_2.h5')\r\n",
        "layer_2 = get_layer_output(model, train_x_2_lstm, -2)\r\n",
        "new_input_2 = np.append(layer_2, np.array(train_info_2), axis = 1)\r\n",
        "\r\n",
        "print('layer shape =', layer_2.shape)\r\n",
        "print('train_info_1 shape =', train_info_2.shape)\r\n",
        "print('new input shape =', new_input_2.shape)"
      ],
      "execution_count": null,
      "outputs": [
        {
          "output_type": "stream",
          "text": [
            "layer shape = (35016, 32)\n",
            "train_info_1 shape = (35016, 41)\n",
            "new input shape = (35016, 73)\n"
          ],
          "name": "stdout"
        }
      ]
    },
    {
      "cell_type": "code",
      "metadata": {
        "colab": {
          "base_uri": "https://localhost:8080/"
        },
        "id": "_R2OyJNZh1HQ",
        "outputId": "70a56630-c50e-4f01-95c3-83dbb93cc1c6"
      },
      "source": [
        "def nn_model_2(input_dim):\r\n",
        "  nn_model_2 = Sequential()\r\n",
        "  nn_model_2.add(Dense(64, input_dim = input_dim, activation='relu'))\r\n",
        "  nn_model_2.add(Dense(32))\r\n",
        "  nn_model_2.add(Dense(1))\r\n",
        "  nn_model_2.compile(loss = 'mean_absolute_error', optimizer = 'adam')\r\n",
        "  return nn_model_2\r\n",
        "\r\n",
        "nn_model_2 = nn_model_2(new_input_2.shape[1])\r\n",
        "nn_model_2.fit(new_input_2, train_y_2_lstm, batch_size = 32, epochs = 20, verbose = 0)\r\n",
        "nn_model_2.save('nn_model_2.h5')\r\n",
        "print('Done')"
      ],
      "execution_count": null,
      "outputs": [
        {
          "output_type": "stream",
          "text": [
            "done\n"
          ],
          "name": "stdout"
        }
      ]
    },
    {
      "cell_type": "code",
      "metadata": {
        "id": "gvNeqVNnh1J_"
      },
      "source": [
        "test_x_2_lstm = np.array(test_x_2.values).reshape(test_x_2.shape[0], 12, 15)\r\n",
        "test_y_2_lstm = np.array(test_y_2)\r\n",
        "\r\n",
        "model = load_model('model_x_2.h5')\r\n",
        "layer = get_layer_output(model, test_x_2_lstm, -2)\r\n",
        "new_input = np.append(layer, np.array(test_info_2), axis = 1)\r\n",
        "\r\n",
        "nn_model_2 = load_model('nn_model_2.h5')\r\n",
        "output = get_layer_output(nn_model_2, new_input, -1) # = model.predict\r\n",
        "\r\n",
        "pred_inverse_test_y_2_add = inverse_transform(output)\r\n",
        "real_inverse_test_y_2_add = inverse_transform(test_y_2_lstm)\r\n",
        "test_2_add_result = build_result(test_x_2, pred_inverse_test_y_2_add, real_inverse_test_y_2_add)"
      ],
      "execution_count": null,
      "outputs": []
    },
    {
      "cell_type": "code",
      "metadata": {
        "colab": {
          "base_uri": "https://localhost:8080/",
          "height": 644
        },
        "id": "n-4rG3NDkieB",
        "outputId": "c6b20249-9d73-4d0e-8cbe-788af5dcc575"
      },
      "source": [
        "test_2_add_result.sort_values('adj_abs_error(%)', ascending = False)[:20]"
      ],
      "execution_count": null,
      "outputs": [
        {
          "output_type": "execute_result",
          "data": {
            "text/html": [
              "<div>\n",
              "<style scoped>\n",
              "    .dataframe tbody tr th:only-of-type {\n",
              "        vertical-align: middle;\n",
              "    }\n",
              "\n",
              "    .dataframe tbody tr th {\n",
              "        vertical-align: top;\n",
              "    }\n",
              "\n",
              "    .dataframe thead th {\n",
              "        text-align: right;\n",
              "    }\n",
              "</style>\n",
              "<table border=\"1\" class=\"dataframe\">\n",
              "  <thead>\n",
              "    <tr style=\"text-align: right;\">\n",
              "      <th></th>\n",
              "      <th>real_m12</th>\n",
              "      <th>real_m13</th>\n",
              "      <th>pred_m13</th>\n",
              "      <th>error(%)</th>\n",
              "      <th>abs_error(%))</th>\n",
              "      <th>adj_abs_error(%)</th>\n",
              "    </tr>\n",
              "  </thead>\n",
              "  <tbody>\n",
              "    <tr>\n",
              "      <th>58832</th>\n",
              "      <td>19515</td>\n",
              "      <td>5760478.01</td>\n",
              "      <td>25948.671875</td>\n",
              "      <td>-99.549540</td>\n",
              "      <td>99.549540</td>\n",
              "      <td>78.067389</td>\n",
              "    </tr>\n",
              "    <tr>\n",
              "      <th>120897</th>\n",
              "      <td>77309</td>\n",
              "      <td>4480372.01</td>\n",
              "      <td>75209.406250</td>\n",
              "      <td>-98.321358</td>\n",
              "      <td>98.321358</td>\n",
              "      <td>59.969968</td>\n",
              "    </tr>\n",
              "    <tr>\n",
              "      <th>118964</th>\n",
              "      <td>48265</td>\n",
              "      <td>3922718.01</td>\n",
              "      <td>56084.757812</td>\n",
              "      <td>-98.570258</td>\n",
              "      <td>98.570258</td>\n",
              "      <td>52.638664</td>\n",
              "    </tr>\n",
              "    <tr>\n",
              "      <th>137267</th>\n",
              "      <td>62832</td>\n",
              "      <td>3371403.01</td>\n",
              "      <td>61047.343750</td>\n",
              "      <td>-98.189260</td>\n",
              "      <td>98.189260</td>\n",
              "      <td>45.065742</td>\n",
              "    </tr>\n",
              "    <tr>\n",
              "      <th>32861</th>\n",
              "      <td>71163</td>\n",
              "      <td>2591697.01</td>\n",
              "      <td>76975.820312</td>\n",
              "      <td>-97.029907</td>\n",
              "      <td>97.029907</td>\n",
              "      <td>34.234321</td>\n",
              "    </tr>\n",
              "    <tr>\n",
              "      <th>187496</th>\n",
              "      <td>17083</td>\n",
              "      <td>2226589.01</td>\n",
              "      <td>19334.320312</td>\n",
              "      <td>-99.131662</td>\n",
              "      <td>99.131662</td>\n",
              "      <td>30.048605</td>\n",
              "    </tr>\n",
              "    <tr>\n",
              "      <th>170699</th>\n",
              "      <td>14524</td>\n",
              "      <td>2019881.01</td>\n",
              "      <td>20526.367188</td>\n",
              "      <td>-98.983783</td>\n",
              "      <td>98.983783</td>\n",
              "      <td>27.218345</td>\n",
              "    </tr>\n",
              "    <tr>\n",
              "      <th>128301</th>\n",
              "      <td>19041</td>\n",
              "      <td>1724489.01</td>\n",
              "      <td>26868.414062</td>\n",
              "      <td>-98.441949</td>\n",
              "      <td>98.441949</td>\n",
              "      <td>23.110669</td>\n",
              "    </tr>\n",
              "    <tr>\n",
              "      <th>111552</th>\n",
              "      <td>19974</td>\n",
              "      <td>1551401.01</td>\n",
              "      <td>27802.093750</td>\n",
              "      <td>-98.207936</td>\n",
              "      <td>98.207936</td>\n",
              "      <td>20.741613</td>\n",
              "    </tr>\n",
              "    <tr>\n",
              "      <th>10716</th>\n",
              "      <td>56088</td>\n",
              "      <td>1597248.01</td>\n",
              "      <td>82536.500000</td>\n",
              "      <td>-94.832581</td>\n",
              "      <td>94.832581</td>\n",
              "      <td>20.620624</td>\n",
              "    </tr>\n",
              "    <tr>\n",
              "      <th>176252</th>\n",
              "      <td>75331</td>\n",
              "      <td>1523847.01</td>\n",
              "      <td>65599.015625</td>\n",
              "      <td>-95.695170</td>\n",
              "      <td>95.695170</td>\n",
              "      <td>19.851954</td>\n",
              "    </tr>\n",
              "    <tr>\n",
              "      <th>82794</th>\n",
              "      <td>14527</td>\n",
              "      <td>1425516.01</td>\n",
              "      <td>25979.691406</td>\n",
              "      <td>-98.177524</td>\n",
              "      <td>98.177524</td>\n",
              "      <td>19.052679</td>\n",
              "    </tr>\n",
              "    <tr>\n",
              "      <th>144991</th>\n",
              "      <td>74288</td>\n",
              "      <td>1471198.01</td>\n",
              "      <td>75209.406250</td>\n",
              "      <td>-94.887880</td>\n",
              "      <td>94.887880</td>\n",
              "      <td>19.004382</td>\n",
              "    </tr>\n",
              "    <tr>\n",
              "      <th>54978</th>\n",
              "      <td>54763</td>\n",
              "      <td>1378332.01</td>\n",
              "      <td>61898.628906</td>\n",
              "      <td>-95.509164</td>\n",
              "      <td>95.509164</td>\n",
              "      <td>17.921352</td>\n",
              "    </tr>\n",
              "    <tr>\n",
              "      <th>81855</th>\n",
              "      <td>63011</td>\n",
              "      <td>1347829.01</td>\n",
              "      <td>64275.597656</td>\n",
              "      <td>-95.231176</td>\n",
              "      <td>95.231176</td>\n",
              "      <td>17.473738</td>\n",
              "    </tr>\n",
              "    <tr>\n",
              "      <th>163267</th>\n",
              "      <td>25813</td>\n",
              "      <td>1218558.01</td>\n",
              "      <td>33292.882812</td>\n",
              "      <td>-97.267846</td>\n",
              "      <td>97.267846</td>\n",
              "      <td>16.135684</td>\n",
              "    </tr>\n",
              "    <tr>\n",
              "      <th>101159</th>\n",
              "      <td>75904</td>\n",
              "      <td>1227008.01</td>\n",
              "      <td>75209.406250</td>\n",
              "      <td>-93.870504</td>\n",
              "      <td>93.870504</td>\n",
              "      <td>15.680085</td>\n",
              "    </tr>\n",
              "    <tr>\n",
              "      <th>43975</th>\n",
              "      <td>58349</td>\n",
              "      <td>1141019.01</td>\n",
              "      <td>64395.953125</td>\n",
              "      <td>-94.356277</td>\n",
              "      <td>94.356277</td>\n",
              "      <td>14.656678</td>\n",
              "    </tr>\n",
              "    <tr>\n",
              "      <th>163726</th>\n",
              "      <td>57338</td>\n",
              "      <td>1132208.01</td>\n",
              "      <td>58885.039062</td>\n",
              "      <td>-94.799097</td>\n",
              "      <td>94.799097</td>\n",
              "      <td>14.611752</td>\n",
              "    </tr>\n",
              "    <tr>\n",
              "      <th>8800</th>\n",
              "      <td>19206</td>\n",
              "      <td>1028557.01</td>\n",
              "      <td>19985.632812</td>\n",
              "      <td>-98.056925</td>\n",
              "      <td>98.056925</td>\n",
              "      <td>13.730252</td>\n",
              "    </tr>\n",
              "  </tbody>\n",
              "</table>\n",
              "</div>"
            ],
            "text/plain": [
              "        real_m12    real_m13  ...  abs_error(%))  adj_abs_error(%)\n",
              "58832      19515  5760478.01  ...      99.549540         78.067389\n",
              "120897     77309  4480372.01  ...      98.321358         59.969968\n",
              "118964     48265  3922718.01  ...      98.570258         52.638664\n",
              "137267     62832  3371403.01  ...      98.189260         45.065742\n",
              "32861      71163  2591697.01  ...      97.029907         34.234321\n",
              "187496     17083  2226589.01  ...      99.131662         30.048605\n",
              "170699     14524  2019881.01  ...      98.983783         27.218345\n",
              "128301     19041  1724489.01  ...      98.441949         23.110669\n",
              "111552     19974  1551401.01  ...      98.207936         20.741613\n",
              "10716      56088  1597248.01  ...      94.832581         20.620624\n",
              "176252     75331  1523847.01  ...      95.695170         19.851954\n",
              "82794      14527  1425516.01  ...      98.177524         19.052679\n",
              "144991     74288  1471198.01  ...      94.887880         19.004382\n",
              "54978      54763  1378332.01  ...      95.509164         17.921352\n",
              "81855      63011  1347829.01  ...      95.231176         17.473738\n",
              "163267     25813  1218558.01  ...      97.267846         16.135684\n",
              "101159     75904  1227008.01  ...      93.870504         15.680085\n",
              "43975      58349  1141019.01  ...      94.356277         14.656678\n",
              "163726     57338  1132208.01  ...      94.799097         14.611752\n",
              "8800       19206  1028557.01  ...      98.056925         13.730252\n",
              "\n",
              "[20 rows x 6 columns]"
            ]
          },
          "metadata": {
            "tags": []
          },
          "execution_count": 100
        }
      ]
    },
    {
      "cell_type": "markdown",
      "metadata": {
        "id": "tpN9ZWteQEzo"
      },
      "source": [
        "* train_x_3 + train_info_3\r\n",
        "* model_7\r\n",
        "* echoch = 10"
      ]
    },
    {
      "cell_type": "code",
      "metadata": {
        "colab": {
          "base_uri": "https://localhost:8080/"
        },
        "id": "Y_CxR-BtQSXp",
        "outputId": "ed1f4cc3-393b-4bff-e6e2-0ffa3c0b4e76"
      },
      "source": [
        "model = model_7()\r\n",
        "train_x_3_lstm = np.array(train_x_3.values).reshape(train_x_3.shape[0], 12, 15)\r\n",
        "train_y_3_lstm = np.array(train_y_3)\r\n",
        "model.fit(train_x_3_lstm, train_y_3_lstm, batch_size = 32, epochs = 10, verbose = 0)\r\n",
        "model.save('model_x_3.h5')\r\n",
        "\r\n",
        "model = load_model('model_x_3.h5')\r\n",
        "layer_3 = get_layer_output(model, train_x_3_lstm, -2)\r\n",
        "new_input_3 = np.append(layer_3, np.array(train_info_3), axis = 1)\r\n",
        "\r\n",
        "print('layer shape =', layer_3.shape)\r\n",
        "print('train_info_1 shape =', train_info_3.shape)\r\n",
        "print('new input shape =', new_input_3.shape)"
      ],
      "execution_count": null,
      "outputs": [
        {
          "output_type": "stream",
          "text": [
            "layer shape = (35016, 64)\n",
            "train_info_1 shape = (35016, 41)\n",
            "new input shape = (35016, 105)\n"
          ],
          "name": "stdout"
        }
      ]
    },
    {
      "cell_type": "code",
      "metadata": {
        "colab": {
          "base_uri": "https://localhost:8080/"
        },
        "id": "b_Xc7gYVk-W8",
        "outputId": "757adda2-4d64-4540-a93d-cf404883b5a9"
      },
      "source": [
        "def nn_model_3(input_dim):\r\n",
        "  nn_model_3 = Sequential()\r\n",
        "  nn_model_3.add(Dense(32, input_dim = input_dim, activation = 'relu'))\r\n",
        "  nn_model_3.add(Dense(32))\r\n",
        "  nn_model_3.add(Dense(1))\r\n",
        "  nn_model_3.compile(loss = 'mean_absolute_error', optimizer = 'adam')\r\n",
        "  return nn_model_3\r\n",
        "\r\n",
        "nn_model_3 = nn_model_3(new_input_3.shape[1])\r\n",
        "nn_model_3.fit(new_input_3, train_y_3_lstm, batch_size = 32, epochs = 18, verbose = 0)\r\n",
        "nn_model_3.save('nn_model_3.h5')\r\n",
        "print('Done')"
      ],
      "execution_count": null,
      "outputs": [
        {
          "output_type": "stream",
          "text": [
            "Done\n"
          ],
          "name": "stdout"
        }
      ]
    },
    {
      "cell_type": "code",
      "metadata": {
        "id": "0MHuo1f_QSZ9"
      },
      "source": [
        "test_x_3_lstm = np.array(test_x_3.values).reshape(test_x_3.shape[0], 12, 15)\r\n",
        "test_y_3_lstm = np.array(test_y_3)\r\n",
        "\r\n",
        "model = load_model('model_x_3.h5')\r\n",
        "layer = get_layer_output(model, test_x_3_lstm, -2)\r\n",
        "new_input = np.append(layer, np.array(test_info_3), axis = 1)\r\n",
        "\r\n",
        "nn_model_3 = load_model('nn_model_3.h5')\r\n",
        "output = get_layer_output(nn_model_3, new_input, -1) # = model.predict\r\n",
        "\r\n",
        "pred_inverse_test_y_3_add = inverse_transform(output)\r\n",
        "real_inverse_test_y_3_add = inverse_transform(test_y_3_lstm)\r\n",
        "test_3_add_result = build_result(test_x_3, pred_inverse_test_y_3_add, real_inverse_test_y_3_add)"
      ],
      "execution_count": null,
      "outputs": []
    },
    {
      "cell_type": "code",
      "metadata": {
        "colab": {
          "base_uri": "https://localhost:8080/",
          "height": 644
        },
        "id": "KaFIrXDzmP6D",
        "outputId": "182fbb7a-74e6-466a-bee5-3cbb422fd272"
      },
      "source": [
        "test_3_add_result.sort_values('adj_abs_error(%)', ascending = False)[:20]"
      ],
      "execution_count": null,
      "outputs": [
        {
          "output_type": "execute_result",
          "data": {
            "text/html": [
              "<div>\n",
              "<style scoped>\n",
              "    .dataframe tbody tr th:only-of-type {\n",
              "        vertical-align: middle;\n",
              "    }\n",
              "\n",
              "    .dataframe tbody tr th {\n",
              "        vertical-align: top;\n",
              "    }\n",
              "\n",
              "    .dataframe thead th {\n",
              "        text-align: right;\n",
              "    }\n",
              "</style>\n",
              "<table border=\"1\" class=\"dataframe\">\n",
              "  <thead>\n",
              "    <tr style=\"text-align: right;\">\n",
              "      <th></th>\n",
              "      <th>real_m12</th>\n",
              "      <th>real_m13</th>\n",
              "      <th>pred_m13</th>\n",
              "      <th>error(%)</th>\n",
              "      <th>abs_error(%))</th>\n",
              "      <th>adj_abs_error(%)</th>\n",
              "    </tr>\n",
              "  </thead>\n",
              "  <tbody>\n",
              "    <tr>\n",
              "      <th>39078</th>\n",
              "      <td>108243</td>\n",
              "      <td>7392850.01</td>\n",
              "      <td>119836.570312</td>\n",
              "      <td>-98.379021</td>\n",
              "      <td>98.379021</td>\n",
              "      <td>21.119481</td>\n",
              "    </tr>\n",
              "    <tr>\n",
              "      <th>153380</th>\n",
              "      <td>420295</td>\n",
              "      <td>6905775.01</td>\n",
              "      <td>400312.562500</td>\n",
              "      <td>-94.203220</td>\n",
              "      <td>94.203220</td>\n",
              "      <td>18.890656</td>\n",
              "    </tr>\n",
              "    <tr>\n",
              "      <th>122713</th>\n",
              "      <td>170475</td>\n",
              "      <td>5241997.01</td>\n",
              "      <td>414030.625000</td>\n",
              "      <td>-92.101662</td>\n",
              "      <td>92.101662</td>\n",
              "      <td>14.019518</td>\n",
              "    </tr>\n",
              "    <tr>\n",
              "      <th>155889</th>\n",
              "      <td>328791</td>\n",
              "      <td>4558041.01</td>\n",
              "      <td>314763.500000</td>\n",
              "      <td>-93.094325</td>\n",
              "      <td>93.094325</td>\n",
              "      <td>12.321690</td>\n",
              "    </tr>\n",
              "    <tr>\n",
              "      <th>69582</th>\n",
              "      <td>324952</td>\n",
              "      <td>3917475.01</td>\n",
              "      <td>312266.500000</td>\n",
              "      <td>-92.028883</td>\n",
              "      <td>92.028883</td>\n",
              "      <td>10.468856</td>\n",
              "    </tr>\n",
              "    <tr>\n",
              "      <th>107964</th>\n",
              "      <td>431918</td>\n",
              "      <td>4013772.01</td>\n",
              "      <td>414030.625000</td>\n",
              "      <td>-89.684750</td>\n",
              "      <td>89.684750</td>\n",
              "      <td>10.452981</td>\n",
              "    </tr>\n",
              "    <tr>\n",
              "      <th>80446</th>\n",
              "      <td>152904</td>\n",
              "      <td>3223467.01</td>\n",
              "      <td>145904.031250</td>\n",
              "      <td>-95.473692</td>\n",
              "      <td>95.473692</td>\n",
              "      <td>8.936672</td>\n",
              "    </tr>\n",
              "    <tr>\n",
              "      <th>87084</th>\n",
              "      <td>130943</td>\n",
              "      <td>3155289.01</td>\n",
              "      <td>149169.109375</td>\n",
              "      <td>-95.272411</td>\n",
              "      <td>95.272411</td>\n",
              "      <td>8.729214</td>\n",
              "    </tr>\n",
              "    <tr>\n",
              "      <th>33367</th>\n",
              "      <td>263328</td>\n",
              "      <td>3247855.01</td>\n",
              "      <td>242066.000000</td>\n",
              "      <td>-92.546896</td>\n",
              "      <td>92.546896</td>\n",
              "      <td>8.728253</td>\n",
              "    </tr>\n",
              "    <tr>\n",
              "      <th>114262</th>\n",
              "      <td>242940</td>\n",
              "      <td>3127640.01</td>\n",
              "      <td>228493.875000</td>\n",
              "      <td>-92.694368</td>\n",
              "      <td>92.694368</td>\n",
              "      <td>8.418582</td>\n",
              "    </tr>\n",
              "    <tr>\n",
              "      <th>70916</th>\n",
              "      <td>213740</td>\n",
              "      <td>3138222.01</td>\n",
              "      <td>247285.187500</td>\n",
              "      <td>-92.120214</td>\n",
              "      <td>92.120214</td>\n",
              "      <td>8.394744</td>\n",
              "    </tr>\n",
              "    <tr>\n",
              "      <th>27993</th>\n",
              "      <td>362050</td>\n",
              "      <td>3009725.01</td>\n",
              "      <td>199644.531250</td>\n",
              "      <td>-93.366685</td>\n",
              "      <td>93.366685</td>\n",
              "      <td>8.159952</td>\n",
              "    </tr>\n",
              "    <tr>\n",
              "      <th>18291</th>\n",
              "      <td>150420</td>\n",
              "      <td>2979372.01</td>\n",
              "      <td>321193.687500</td>\n",
              "      <td>-89.219416</td>\n",
              "      <td>89.219416</td>\n",
              "      <td>7.718857</td>\n",
              "    </tr>\n",
              "    <tr>\n",
              "      <th>78375</th>\n",
              "      <td>106078</td>\n",
              "      <td>2604890.01</td>\n",
              "      <td>99485.664062</td>\n",
              "      <td>-96.180811</td>\n",
              "      <td>96.180811</td>\n",
              "      <td>7.275229</td>\n",
              "    </tr>\n",
              "    <tr>\n",
              "      <th>143173</th>\n",
              "      <td>253880</td>\n",
              "      <td>2737396.01</td>\n",
              "      <td>282417.312500</td>\n",
              "      <td>-89.682994</td>\n",
              "      <td>89.682994</td>\n",
              "      <td>7.128803</td>\n",
              "    </tr>\n",
              "    <tr>\n",
              "      <th>83741</th>\n",
              "      <td>120668</td>\n",
              "      <td>2544611.01</td>\n",
              "      <td>114624.460938</td>\n",
              "      <td>-95.495403</td>\n",
              "      <td>95.495403</td>\n",
              "      <td>7.056230</td>\n",
              "    </tr>\n",
              "    <tr>\n",
              "      <th>118735</th>\n",
              "      <td>411292</td>\n",
              "      <td>2791023.01</td>\n",
              "      <td>414030.625000</td>\n",
              "      <td>-85.165632</td>\n",
              "      <td>85.165632</td>\n",
              "      <td>6.902345</td>\n",
              "    </tr>\n",
              "    <tr>\n",
              "      <th>186961</th>\n",
              "      <td>99577</td>\n",
              "      <td>2433031.01</td>\n",
              "      <td>98548.632812</td>\n",
              "      <td>-95.949553</td>\n",
              "      <td>95.949553</td>\n",
              "      <td>6.778904</td>\n",
              "    </tr>\n",
              "    <tr>\n",
              "      <th>171764</th>\n",
              "      <td>149402</td>\n",
              "      <td>2564619.01</td>\n",
              "      <td>252820.843750</td>\n",
              "      <td>-90.141973</td>\n",
              "      <td>90.141973</td>\n",
              "      <td>6.713033</td>\n",
              "    </tr>\n",
              "    <tr>\n",
              "      <th>35066</th>\n",
              "      <td>384358</td>\n",
              "      <td>2618351.01</td>\n",
              "      <td>412042.562500</td>\n",
              "      <td>-84.263280</td>\n",
              "      <td>84.263280</td>\n",
              "      <td>6.406710</td>\n",
              "    </tr>\n",
              "  </tbody>\n",
              "</table>\n",
              "</div>"
            ],
            "text/plain": [
              "        real_m12    real_m13  ...  abs_error(%))  adj_abs_error(%)\n",
              "39078     108243  7392850.01  ...      98.379021         21.119481\n",
              "153380    420295  6905775.01  ...      94.203220         18.890656\n",
              "122713    170475  5241997.01  ...      92.101662         14.019518\n",
              "155889    328791  4558041.01  ...      93.094325         12.321690\n",
              "69582     324952  3917475.01  ...      92.028883         10.468856\n",
              "107964    431918  4013772.01  ...      89.684750         10.452981\n",
              "80446     152904  3223467.01  ...      95.473692          8.936672\n",
              "87084     130943  3155289.01  ...      95.272411          8.729214\n",
              "33367     263328  3247855.01  ...      92.546896          8.728253\n",
              "114262    242940  3127640.01  ...      92.694368          8.418582\n",
              "70916     213740  3138222.01  ...      92.120214          8.394744\n",
              "27993     362050  3009725.01  ...      93.366685          8.159952\n",
              "18291     150420  2979372.01  ...      89.219416          7.718857\n",
              "78375     106078  2604890.01  ...      96.180811          7.275229\n",
              "143173    253880  2737396.01  ...      89.682994          7.128803\n",
              "83741     120668  2544611.01  ...      95.495403          7.056230\n",
              "118735    411292  2791023.01  ...      85.165632          6.902345\n",
              "186961     99577  2433031.01  ...      95.949553          6.778904\n",
              "171764    149402  2564619.01  ...      90.141973          6.713033\n",
              "35066     384358  2618351.01  ...      84.263280          6.406710\n",
              "\n",
              "[20 rows x 6 columns]"
            ]
          },
          "metadata": {
            "tags": []
          },
          "execution_count": 118
        }
      ]
    },
    {
      "cell_type": "markdown",
      "metadata": {
        "id": "Rs4wqJv6QE62"
      },
      "source": [
        "* train_x_4 + train_info_4\r\n",
        "* model_7\r\n",
        "* echoch = 17"
      ]
    },
    {
      "cell_type": "code",
      "metadata": {
        "colab": {
          "base_uri": "https://localhost:8080/"
        },
        "id": "8wePqjTSP47v",
        "outputId": "bdf7f46d-8c2a-4d6b-d44f-5bc7f3868a7c"
      },
      "source": [
        "model = model_7()\r\n",
        "train_x_4_lstm = np.array(train_x_4.values).reshape(train_x_4.shape[0], 12, 15)\r\n",
        "train_y_4_lstm = np.array(train_y_4)\r\n",
        "model.fit(train_x_4_lstm, train_y_4_lstm, batch_size = 32, epochs = 10, verbose = 0)\r\n",
        "model.save('model_x_4.h5')\r\n",
        "\r\n",
        "model = load_model('model_x_4.h5')\r\n",
        "layer_4 = get_layer_output(model, train_x_4_lstm, -2)\r\n",
        "new_input_4 = np.append(layer_4, np.array(train_info_4), axis = 1)\r\n",
        "\r\n",
        "print('layer shape =', layer_4.shape)\r\n",
        "print('train_info_1 shape =', train_info_4.shape)\r\n",
        "print('new input shape =', new_input_4.shape)"
      ],
      "execution_count": null,
      "outputs": [
        {
          "output_type": "stream",
          "text": [
            "layer shape = (35016, 64)\n",
            "train_info_1 shape = (35016, 41)\n",
            "new input shape = (35016, 105)\n"
          ],
          "name": "stdout"
        }
      ]
    },
    {
      "cell_type": "code",
      "metadata": {
        "id": "eLMF8RoXO1h-"
      },
      "source": [
        "def nn_model_4(input_dim):\r\n",
        "  nn_model_4 = Sequential()\r\n",
        "  nn_model_4.add(Dense(64, input_dim = input_dim, activation = 'relu'))\r\n",
        "  nn_model_4.add(Dense(32))\r\n",
        "  nn_model_4.add(Dense(1))\r\n",
        "  nn_model_4.compile(loss = 'mean_absolute_error', optimizer = 'adam')\r\n",
        "  return nn_model_4\r\n",
        "\r\n",
        "nn_model_4 = nn_model_4(new_input_4.shape[1])\r\n",
        "nn_model_4.fit(new_input_4, train_y_4_lstm, batch_size = 16, epochs = 11, verbose = 0)\r\n",
        "nn_model_4.save('nn_model_4.h5')"
      ],
      "execution_count": null,
      "outputs": []
    },
    {
      "cell_type": "code",
      "metadata": {
        "id": "Cp8xhUyDmRVB"
      },
      "source": [
        "test_x_4_lstm = np.array(test_x_4.values).reshape(test_x_4.shape[0], 12, 15)\r\n",
        "test_y_4_lstm = np.array(test_y_4)\r\n",
        "\r\n",
        "model = load_model('model_x_4.h5')\r\n",
        "layer = get_layer_output(model, test_x_4_lstm, -2)\r\n",
        "new_input = np.append(layer, np.array(test_info_4), axis = 1)\r\n",
        "\r\n",
        "nn_model_4 = load_model('nn_model_4.h5')\r\n",
        "output = get_layer_output(nn_model_4, new_input, -1) # = model.predict\r\n",
        "\r\n",
        "pred_inverse_test_y_4_add = inverse_transform(output)\r\n",
        "real_inverse_test_y_4_add = inverse_transform(test_y_4_lstm)\r\n",
        "test_4_add_result = build_result(test_x_4, pred_inverse_test_y_4_add, real_inverse_test_y_4_add)"
      ],
      "execution_count": null,
      "outputs": []
    },
    {
      "cell_type": "code",
      "metadata": {
        "colab": {
          "base_uri": "https://localhost:8080/",
          "height": 644
        },
        "id": "7Q3deicVmRXa",
        "outputId": "b370ed13-e333-40f1-bbcc-064adc7cefa6"
      },
      "source": [
        "test_4_add_result.sort_values('adj_abs_error(%)', ascending = False)[:20]"
      ],
      "execution_count": null,
      "outputs": [
        {
          "output_type": "execute_result",
          "data": {
            "text/html": [
              "<div>\n",
              "<style scoped>\n",
              "    .dataframe tbody tr th:only-of-type {\n",
              "        vertical-align: middle;\n",
              "    }\n",
              "\n",
              "    .dataframe tbody tr th {\n",
              "        vertical-align: top;\n",
              "    }\n",
              "\n",
              "    .dataframe thead th {\n",
              "        text-align: right;\n",
              "    }\n",
              "</style>\n",
              "<table border=\"1\" class=\"dataframe\">\n",
              "  <thead>\n",
              "    <tr style=\"text-align: right;\">\n",
              "      <th></th>\n",
              "      <th>real_m12</th>\n",
              "      <th>real_m13</th>\n",
              "      <th>pred_m13</th>\n",
              "      <th>error(%)</th>\n",
              "      <th>abs_error(%))</th>\n",
              "      <th>adj_abs_error(%)</th>\n",
              "    </tr>\n",
              "  </thead>\n",
              "  <tbody>\n",
              "    <tr>\n",
              "      <th>107996</th>\n",
              "      <td>854339</td>\n",
              "      <td>7833641.01</td>\n",
              "      <td>9.254455e+05</td>\n",
              "      <td>-88.186266</td>\n",
              "      <td>88.186266</td>\n",
              "      <td>3.967879</td>\n",
              "    </tr>\n",
              "    <tr>\n",
              "      <th>63576</th>\n",
              "      <td>10107615</td>\n",
              "      <td>3636166.01</td>\n",
              "      <td>1.034957e+07</td>\n",
              "      <td>184.628616</td>\n",
              "      <td>184.628616</td>\n",
              "      <td>3.855996</td>\n",
              "    </tr>\n",
              "    <tr>\n",
              "      <th>140153</th>\n",
              "      <td>868617</td>\n",
              "      <td>7452108.01</td>\n",
              "      <td>8.504934e+05</td>\n",
              "      <td>-88.587211</td>\n",
              "      <td>88.587211</td>\n",
              "      <td>3.791788</td>\n",
              "    </tr>\n",
              "    <tr>\n",
              "      <th>198134</th>\n",
              "      <td>9602027</td>\n",
              "      <td>2452399.01</td>\n",
              "      <td>8.782768e+06</td>\n",
              "      <td>258.129650</td>\n",
              "      <td>258.129650</td>\n",
              "      <td>3.635992</td>\n",
              "    </tr>\n",
              "    <tr>\n",
              "      <th>102772</th>\n",
              "      <td>3900605</td>\n",
              "      <td>10143537.01</td>\n",
              "      <td>3.891807e+06</td>\n",
              "      <td>-61.632644</td>\n",
              "      <td>61.632644</td>\n",
              "      <td>3.590823</td>\n",
              "    </tr>\n",
              "    <tr>\n",
              "      <th>35010</th>\n",
              "      <td>1594622</td>\n",
              "      <td>6643524.01</td>\n",
              "      <td>1.609938e+06</td>\n",
              "      <td>-75.766799</td>\n",
              "      <td>75.766799</td>\n",
              "      <td>2.891154</td>\n",
              "    </tr>\n",
              "    <tr>\n",
              "      <th>106699</th>\n",
              "      <td>8423276</td>\n",
              "      <td>3899545.01</td>\n",
              "      <td>8.583794e+06</td>\n",
              "      <td>120.122962</td>\n",
              "      <td>120.122962</td>\n",
              "      <td>2.690505</td>\n",
              "    </tr>\n",
              "    <tr>\n",
              "      <th>154393</th>\n",
              "      <td>9041017</td>\n",
              "      <td>3185106.01</td>\n",
              "      <td>7.794797e+06</td>\n",
              "      <td>144.726454</td>\n",
              "      <td>144.726454</td>\n",
              "      <td>2.647681</td>\n",
              "    </tr>\n",
              "    <tr>\n",
              "      <th>158869</th>\n",
              "      <td>5399080</td>\n",
              "      <td>642622.01</td>\n",
              "      <td>5.236034e+06</td>\n",
              "      <td>714.792198</td>\n",
              "      <td>714.792198</td>\n",
              "      <td>2.638331</td>\n",
              "    </tr>\n",
              "    <tr>\n",
              "      <th>153650</th>\n",
              "      <td>8664072</td>\n",
              "      <td>3485043.01</td>\n",
              "      <td>7.971594e+06</td>\n",
              "      <td>128.737306</td>\n",
              "      <td>128.737306</td>\n",
              "      <td>2.576952</td>\n",
              "    </tr>\n",
              "    <tr>\n",
              "      <th>44700</th>\n",
              "      <td>4642929</td>\n",
              "      <td>8455875.01</td>\n",
              "      <td>3.985146e+06</td>\n",
              "      <td>-52.871279</td>\n",
              "      <td>52.871279</td>\n",
              "      <td>2.567865</td>\n",
              "    </tr>\n",
              "    <tr>\n",
              "      <th>160162</th>\n",
              "      <td>2079035</td>\n",
              "      <td>6510032.01</td>\n",
              "      <td>2.046608e+06</td>\n",
              "      <td>-68.562240</td>\n",
              "      <td>68.562240</td>\n",
              "      <td>2.563669</td>\n",
              "    </tr>\n",
              "    <tr>\n",
              "      <th>83317</th>\n",
              "      <td>893453</td>\n",
              "      <td>5239933.01</td>\n",
              "      <td>9.027666e+05</td>\n",
              "      <td>-82.771410</td>\n",
              "      <td>82.771410</td>\n",
              "      <td>2.491150</td>\n",
              "    </tr>\n",
              "    <tr>\n",
              "      <th>193716</th>\n",
              "      <td>2531683</td>\n",
              "      <td>6445322.01</td>\n",
              "      <td>2.155565e+06</td>\n",
              "      <td>-66.556136</td>\n",
              "      <td>66.556136</td>\n",
              "      <td>2.463920</td>\n",
              "    </tr>\n",
              "    <tr>\n",
              "      <th>191175</th>\n",
              "      <td>5884981</td>\n",
              "      <td>559082.01</td>\n",
              "      <td>4.646250e+06</td>\n",
              "      <td>731.049813</td>\n",
              "      <td>731.049813</td>\n",
              "      <td>2.347558</td>\n",
              "    </tr>\n",
              "    <tr>\n",
              "      <th>154883</th>\n",
              "      <td>1439267</td>\n",
              "      <td>5435812.01</td>\n",
              "      <td>1.434907e+06</td>\n",
              "      <td>-73.602707</td>\n",
              "      <td>73.602707</td>\n",
              "      <td>2.298011</td>\n",
              "    </tr>\n",
              "    <tr>\n",
              "      <th>83784</th>\n",
              "      <td>1848035</td>\n",
              "      <td>5511699.01</td>\n",
              "      <td>1.604687e+06</td>\n",
              "      <td>-70.885795</td>\n",
              "      <td>70.885795</td>\n",
              "      <td>2.244081</td>\n",
              "    </tr>\n",
              "    <tr>\n",
              "      <th>195321</th>\n",
              "      <td>9905147</td>\n",
              "      <td>5381187.01</td>\n",
              "      <td>9.251727e+06</td>\n",
              "      <td>71.927253</td>\n",
              "      <td>71.927253</td>\n",
              "      <td>2.223133</td>\n",
              "    </tr>\n",
              "    <tr>\n",
              "      <th>38965</th>\n",
              "      <td>4722512</td>\n",
              "      <td>8332902.01</td>\n",
              "      <td>4.523324e+06</td>\n",
              "      <td>-45.717296</td>\n",
              "      <td>45.717296</td>\n",
              "      <td>2.188118</td>\n",
              "    </tr>\n",
              "    <tr>\n",
              "      <th>120919</th>\n",
              "      <td>2688140</td>\n",
              "      <td>6223657.01</td>\n",
              "      <td>2.443372e+06</td>\n",
              "      <td>-60.740574</td>\n",
              "      <td>60.740574</td>\n",
              "      <td>2.171293</td>\n",
              "    </tr>\n",
              "  </tbody>\n",
              "</table>\n",
              "</div>"
            ],
            "text/plain": [
              "        real_m12     real_m13  ...  abs_error(%))  adj_abs_error(%)\n",
              "107996    854339   7833641.01  ...      88.186266          3.967879\n",
              "63576   10107615   3636166.01  ...     184.628616          3.855996\n",
              "140153    868617   7452108.01  ...      88.587211          3.791788\n",
              "198134   9602027   2452399.01  ...     258.129650          3.635992\n",
              "102772   3900605  10143537.01  ...      61.632644          3.590823\n",
              "35010    1594622   6643524.01  ...      75.766799          2.891154\n",
              "106699   8423276   3899545.01  ...     120.122962          2.690505\n",
              "154393   9041017   3185106.01  ...     144.726454          2.647681\n",
              "158869   5399080    642622.01  ...     714.792198          2.638331\n",
              "153650   8664072   3485043.01  ...     128.737306          2.576952\n",
              "44700    4642929   8455875.01  ...      52.871279          2.567865\n",
              "160162   2079035   6510032.01  ...      68.562240          2.563669\n",
              "83317     893453   5239933.01  ...      82.771410          2.491150\n",
              "193716   2531683   6445322.01  ...      66.556136          2.463920\n",
              "191175   5884981    559082.01  ...     731.049813          2.347558\n",
              "154883   1439267   5435812.01  ...      73.602707          2.298011\n",
              "83784    1848035   5511699.01  ...      70.885795          2.244081\n",
              "195321   9905147   5381187.01  ...      71.927253          2.223133\n",
              "38965    4722512   8332902.01  ...      45.717296          2.188118\n",
              "120919   2688140   6223657.01  ...      60.740574          2.171293\n",
              "\n",
              "[20 rows x 6 columns]"
            ]
          },
          "metadata": {
            "tags": []
          },
          "execution_count": 141
        }
      ]
    },
    {
      "cell_type": "markdown",
      "metadata": {
        "id": "ov7XUfyMsoDY"
      },
      "source": [
        "## combine result"
      ]
    },
    {
      "cell_type": "code",
      "metadata": {
        "colab": {
          "base_uri": "https://localhost:8080/",
          "height": 404
        },
        "id": "kUXSgfngsnH7",
        "outputId": "567b753f-dc4a-4020-e4e7-6b3404aa6afe"
      },
      "source": [
        "test_all_add_result = pd.DataFrame()\r\n",
        "test_all_add_result['real_m12'] = df['AUM_M12'][test_index]\r\n",
        "\r\n",
        "real = []\r\n",
        "real.extend(test_1_add_result['real_m13'])\r\n",
        "real.extend(test_2_add_result['real_m13'])\r\n",
        "real.extend(test_3_add_result['real_m13'])\r\n",
        "real.extend(test_4_add_result['real_m13'])\r\n",
        "test_all_add_result['real_m13'] = real\r\n",
        "\r\n",
        "pred = []\r\n",
        "pred.extend(test_1_add_result['pred_m13'])\r\n",
        "pred.extend(test_2_add_result['pred_m13'])\r\n",
        "pred.extend(test_3_add_result['pred_m13'])\r\n",
        "pred.extend(test_4_add_result['pred_m13'])\r\n",
        "test_all_add_result['pred_m13'] = pred\r\n",
        "\r\n",
        "test_all_add_result['abs_error(%)'] = abs(test_all_add_result['real_m13'] - test_all_add_result['pred_m13'])/test_all_add_result['real_m13']*100\r\n",
        "total = sum(test_all_add_result['real_m13'])\r\n",
        "test_all_add_result['adj_abs_error(%)'] = test_all_add_result['abs_error(%)']*test_all_add_result['real_m13']/total*100\r\n",
        "\r\n",
        "test_all_add_result"
      ],
      "execution_count": null,
      "outputs": [
        {
          "output_type": "execute_result",
          "data": {
            "text/html": [
              "<div>\n",
              "<style scoped>\n",
              "    .dataframe tbody tr th:only-of-type {\n",
              "        vertical-align: middle;\n",
              "    }\n",
              "\n",
              "    .dataframe tbody tr th {\n",
              "        vertical-align: top;\n",
              "    }\n",
              "\n",
              "    .dataframe thead th {\n",
              "        text-align: right;\n",
              "    }\n",
              "</style>\n",
              "<table border=\"1\" class=\"dataframe\">\n",
              "  <thead>\n",
              "    <tr style=\"text-align: right;\">\n",
              "      <th></th>\n",
              "      <th>real_m12</th>\n",
              "      <th>real_m13</th>\n",
              "      <th>pred_m13</th>\n",
              "      <th>abs_error(%)</th>\n",
              "      <th>adj_abs_error(%)</th>\n",
              "    </tr>\n",
              "  </thead>\n",
              "  <tbody>\n",
              "    <tr>\n",
              "      <th>156005</th>\n",
              "      <td>1015163</td>\n",
              "      <td>5302.01</td>\n",
              "      <td>4.686416e+03</td>\n",
              "      <td>11.610578</td>\n",
              "      <td>0.000283</td>\n",
              "    </tr>\n",
              "    <tr>\n",
              "      <th>130493</th>\n",
              "      <td>536624</td>\n",
              "      <td>16.01</td>\n",
              "      <td>4.686416e+03</td>\n",
              "      <td>29171.805219</td>\n",
              "      <td>0.002145</td>\n",
              "    </tr>\n",
              "    <tr>\n",
              "      <th>27088</th>\n",
              "      <td>719282</td>\n",
              "      <td>61194.01</td>\n",
              "      <td>4.686416e+03</td>\n",
              "      <td>92.341708</td>\n",
              "      <td>0.025951</td>\n",
              "    </tr>\n",
              "    <tr>\n",
              "      <th>14937</th>\n",
              "      <td>29142</td>\n",
              "      <td>12707.01</td>\n",
              "      <td>4.686416e+03</td>\n",
              "      <td>63.119443</td>\n",
              "      <td>0.003683</td>\n",
              "    </tr>\n",
              "    <tr>\n",
              "      <th>172134</th>\n",
              "      <td>22855</td>\n",
              "      <td>1.01</td>\n",
              "      <td>4.686416e+03</td>\n",
              "      <td>463901.585705</td>\n",
              "      <td>0.002152</td>\n",
              "    </tr>\n",
              "    <tr>\n",
              "      <th>...</th>\n",
              "      <td>...</td>\n",
              "      <td>...</td>\n",
              "      <td>...</td>\n",
              "      <td>...</td>\n",
              "      <td>...</td>\n",
              "    </tr>\n",
              "    <tr>\n",
              "      <th>32505</th>\n",
              "      <td>0</td>\n",
              "      <td>390710.01</td>\n",
              "      <td>5.365802e+05</td>\n",
              "      <td>37.334656</td>\n",
              "      <td>0.066991</td>\n",
              "    </tr>\n",
              "    <tr>\n",
              "      <th>155659</th>\n",
              "      <td>319645</td>\n",
              "      <td>2025317.01</td>\n",
              "      <td>1.555591e+06</td>\n",
              "      <td>23.192703</td>\n",
              "      <td>0.215723</td>\n",
              "    </tr>\n",
              "    <tr>\n",
              "      <th>135051</th>\n",
              "      <td>25034</td>\n",
              "      <td>1923593.01</td>\n",
              "      <td>1.860140e+06</td>\n",
              "      <td>3.298678</td>\n",
              "      <td>0.029141</td>\n",
              "    </tr>\n",
              "    <tr>\n",
              "      <th>183445</th>\n",
              "      <td>254591</td>\n",
              "      <td>1530633.01</td>\n",
              "      <td>1.531372e+06</td>\n",
              "      <td>0.048305</td>\n",
              "      <td>0.000340</td>\n",
              "    </tr>\n",
              "    <tr>\n",
              "      <th>44854</th>\n",
              "      <td>256157</td>\n",
              "      <td>713585.01</td>\n",
              "      <td>7.352060e+05</td>\n",
              "      <td>3.029911</td>\n",
              "      <td>0.009930</td>\n",
              "    </tr>\n",
              "  </tbody>\n",
              "</table>\n",
              "<p>60028 rows × 5 columns</p>\n",
              "</div>"
            ],
            "text/plain": [
              "        real_m12    real_m13      pred_m13   abs_error(%)  adj_abs_error(%)\n",
              "156005   1015163     5302.01  4.686416e+03      11.610578          0.000283\n",
              "130493    536624       16.01  4.686416e+03   29171.805219          0.002145\n",
              "27088     719282    61194.01  4.686416e+03      92.341708          0.025951\n",
              "14937      29142    12707.01  4.686416e+03      63.119443          0.003683\n",
              "172134     22855        1.01  4.686416e+03  463901.585705          0.002152\n",
              "...          ...         ...           ...            ...               ...\n",
              "32505          0   390710.01  5.365802e+05      37.334656          0.066991\n",
              "155659    319645  2025317.01  1.555591e+06      23.192703          0.215723\n",
              "135051     25034  1923593.01  1.860140e+06       3.298678          0.029141\n",
              "183445    254591  1530633.01  1.531372e+06       0.048305          0.000340\n",
              "44854     256157   713585.01  7.352060e+05       3.029911          0.009930\n",
              "\n",
              "[60028 rows x 5 columns]"
            ]
          },
          "metadata": {
            "tags": []
          },
          "execution_count": 145
        }
      ]
    },
    {
      "cell_type": "code",
      "metadata": {
        "colab": {
          "base_uri": "https://localhost:8080/",
          "height": 644
        },
        "id": "znOjoXsRsnlK",
        "outputId": "bc5cf084-6d66-4f0d-a035-d4fd42965903"
      },
      "source": [
        "test_all_add_result.sort_values('adj_abs_error(%)', ascending = False)[:20]"
      ],
      "execution_count": null,
      "outputs": [
        {
          "output_type": "execute_result",
          "data": {
            "text/html": [
              "<div>\n",
              "<style scoped>\n",
              "    .dataframe tbody tr th:only-of-type {\n",
              "        vertical-align: middle;\n",
              "    }\n",
              "\n",
              "    .dataframe tbody tr th {\n",
              "        vertical-align: top;\n",
              "    }\n",
              "\n",
              "    .dataframe thead th {\n",
              "        text-align: right;\n",
              "    }\n",
              "</style>\n",
              "<table border=\"1\" class=\"dataframe\">\n",
              "  <thead>\n",
              "    <tr style=\"text-align: right;\">\n",
              "      <th></th>\n",
              "      <th>real_m12</th>\n",
              "      <th>real_m13</th>\n",
              "      <th>pred_m13</th>\n",
              "      <th>abs_error(%)</th>\n",
              "      <th>adj_abs_error(%)</th>\n",
              "    </tr>\n",
              "  </thead>\n",
              "  <tbody>\n",
              "    <tr>\n",
              "      <th>73439</th>\n",
              "      <td>141166</td>\n",
              "      <td>7392850.01</td>\n",
              "      <td>1.198366e+05</td>\n",
              "      <td>98.379021</td>\n",
              "      <td>3.340160</td>\n",
              "    </tr>\n",
              "    <tr>\n",
              "      <th>59755</th>\n",
              "      <td>934645</td>\n",
              "      <td>7833641.01</td>\n",
              "      <td>9.254455e+05</td>\n",
              "      <td>88.186266</td>\n",
              "      <td>3.172616</td>\n",
              "    </tr>\n",
              "    <tr>\n",
              "      <th>143361</th>\n",
              "      <td>4769</td>\n",
              "      <td>3636166.01</td>\n",
              "      <td>1.034957e+07</td>\n",
              "      <td>184.628616</td>\n",
              "      <td>3.083157</td>\n",
              "    </tr>\n",
              "    <tr>\n",
              "      <th>136741</th>\n",
              "      <td>870993</td>\n",
              "      <td>7452108.01</td>\n",
              "      <td>8.504934e+05</td>\n",
              "      <td>88.587211</td>\n",
              "      <td>3.031818</td>\n",
              "    </tr>\n",
              "    <tr>\n",
              "      <th>192036</th>\n",
              "      <td>238020</td>\n",
              "      <td>6905775.01</td>\n",
              "      <td>4.003126e+05</td>\n",
              "      <td>94.203220</td>\n",
              "      <td>2.987660</td>\n",
              "    </tr>\n",
              "    <tr>\n",
              "      <th>125662</th>\n",
              "      <td>1441941</td>\n",
              "      <td>2452399.01</td>\n",
              "      <td>8.782768e+06</td>\n",
              "      <td>258.129650</td>\n",
              "      <td>2.907247</td>\n",
              "    </tr>\n",
              "    <tr>\n",
              "      <th>190214</th>\n",
              "      <td>712570</td>\n",
              "      <td>10143537.01</td>\n",
              "      <td>3.891807e+06</td>\n",
              "      <td>61.632644</td>\n",
              "      <td>2.871132</td>\n",
              "    </tr>\n",
              "    <tr>\n",
              "      <th>165493</th>\n",
              "      <td>7266</td>\n",
              "      <td>5760478.01</td>\n",
              "      <td>2.594867e+04</td>\n",
              "      <td>99.549540</td>\n",
              "      <td>2.633606</td>\n",
              "    </tr>\n",
              "    <tr>\n",
              "      <th>100828</th>\n",
              "      <td>54586</td>\n",
              "      <td>6643524.01</td>\n",
              "      <td>1.609938e+06</td>\n",
              "      <td>75.766799</td>\n",
              "      <td>2.311694</td>\n",
              "    </tr>\n",
              "    <tr>\n",
              "      <th>1946</th>\n",
              "      <td>34802</td>\n",
              "      <td>5241997.01</td>\n",
              "      <td>4.140306e+05</td>\n",
              "      <td>92.101662</td>\n",
              "      <td>2.217263</td>\n",
              "    </tr>\n",
              "    <tr>\n",
              "      <th>91565</th>\n",
              "      <td>60949</td>\n",
              "      <td>3899545.01</td>\n",
              "      <td>8.583794e+06</td>\n",
              "      <td>120.122962</td>\n",
              "      <td>2.151260</td>\n",
              "    </tr>\n",
              "    <tr>\n",
              "      <th>185175</th>\n",
              "      <td>328322</td>\n",
              "      <td>3185106.01</td>\n",
              "      <td>7.794797e+06</td>\n",
              "      <td>144.726454</td>\n",
              "      <td>2.117019</td>\n",
              "    </tr>\n",
              "    <tr>\n",
              "      <th>34902</th>\n",
              "      <td>236836</td>\n",
              "      <td>642622.01</td>\n",
              "      <td>5.236034e+06</td>\n",
              "      <td>714.792198</td>\n",
              "      <td>2.109543</td>\n",
              "    </tr>\n",
              "    <tr>\n",
              "      <th>194107</th>\n",
              "      <td>115097</td>\n",
              "      <td>3485043.01</td>\n",
              "      <td>7.971594e+06</td>\n",
              "      <td>128.737306</td>\n",
              "      <td>2.060466</td>\n",
              "    </tr>\n",
              "    <tr>\n",
              "      <th>34605</th>\n",
              "      <td>776649</td>\n",
              "      <td>8455875.01</td>\n",
              "      <td>3.985146e+06</td>\n",
              "      <td>52.871279</td>\n",
              "      <td>2.053200</td>\n",
              "    </tr>\n",
              "    <tr>\n",
              "      <th>83178</th>\n",
              "      <td>147512</td>\n",
              "      <td>6510032.01</td>\n",
              "      <td>2.046608e+06</td>\n",
              "      <td>68.562240</td>\n",
              "      <td>2.049845</td>\n",
              "    </tr>\n",
              "    <tr>\n",
              "      <th>68578</th>\n",
              "      <td>214947</td>\n",
              "      <td>4480372.01</td>\n",
              "      <td>7.520941e+04</td>\n",
              "      <td>98.321358</td>\n",
              "      <td>2.023089</td>\n",
              "    </tr>\n",
              "    <tr>\n",
              "      <th>2986</th>\n",
              "      <td>12961</td>\n",
              "      <td>5239933.01</td>\n",
              "      <td>9.027666e+05</td>\n",
              "      <td>82.771410</td>\n",
              "      <td>1.991861</td>\n",
              "    </tr>\n",
              "    <tr>\n",
              "      <th>32961</th>\n",
              "      <td>17605</td>\n",
              "      <td>6445322.01</td>\n",
              "      <td>2.155565e+06</td>\n",
              "      <td>66.556136</td>\n",
              "      <td>1.970088</td>\n",
              "    </tr>\n",
              "    <tr>\n",
              "      <th>100886</th>\n",
              "      <td>66924</td>\n",
              "      <td>4558041.01</td>\n",
              "      <td>3.147635e+05</td>\n",
              "      <td>93.094325</td>\n",
              "      <td>1.948742</td>\n",
              "    </tr>\n",
              "  </tbody>\n",
              "</table>\n",
              "</div>"
            ],
            "text/plain": [
              "        real_m12     real_m13      pred_m13  abs_error(%)  adj_abs_error(%)\n",
              "73439     141166   7392850.01  1.198366e+05     98.379021          3.340160\n",
              "59755     934645   7833641.01  9.254455e+05     88.186266          3.172616\n",
              "143361      4769   3636166.01  1.034957e+07    184.628616          3.083157\n",
              "136741    870993   7452108.01  8.504934e+05     88.587211          3.031818\n",
              "192036    238020   6905775.01  4.003126e+05     94.203220          2.987660\n",
              "125662   1441941   2452399.01  8.782768e+06    258.129650          2.907247\n",
              "190214    712570  10143537.01  3.891807e+06     61.632644          2.871132\n",
              "165493      7266   5760478.01  2.594867e+04     99.549540          2.633606\n",
              "100828     54586   6643524.01  1.609938e+06     75.766799          2.311694\n",
              "1946       34802   5241997.01  4.140306e+05     92.101662          2.217263\n",
              "91565      60949   3899545.01  8.583794e+06    120.122962          2.151260\n",
              "185175    328322   3185106.01  7.794797e+06    144.726454          2.117019\n",
              "34902     236836    642622.01  5.236034e+06    714.792198          2.109543\n",
              "194107    115097   3485043.01  7.971594e+06    128.737306          2.060466\n",
              "34605     776649   8455875.01  3.985146e+06     52.871279          2.053200\n",
              "83178     147512   6510032.01  2.046608e+06     68.562240          2.049845\n",
              "68578     214947   4480372.01  7.520941e+04     98.321358          2.023089\n",
              "2986       12961   5239933.01  9.027666e+05     82.771410          1.991861\n",
              "32961      17605   6445322.01  2.155565e+06     66.556136          1.970088\n",
              "100886     66924   4558041.01  3.147635e+05     93.094325          1.948742"
            ]
          },
          "metadata": {
            "tags": []
          },
          "execution_count": 146
        }
      ]
    },
    {
      "cell_type": "code",
      "metadata": {
        "id": "p29QgjNCtxqy"
      },
      "source": [
        "test_all_add_result.to_csv('test_all_add_result.csv', index = False)"
      ],
      "execution_count": null,
      "outputs": []
    },
    {
      "cell_type": "code",
      "metadata": {
        "colab": {
          "base_uri": "https://localhost:8080/"
        },
        "id": "1eQdJf-stqNs",
        "outputId": "9e811897-cac8-47a1-dbb9-697d06b993bc"
      },
      "source": [
        "mse = np.mean((test_all_add_result['pred_m13'] - test_all_add_result['real_m13'])**2)\r\n",
        "mae = np.mean(abs(test_all_add_result['pred_m13'] - test_all_add_result['real_m13']))\r\n",
        "mape = np.mean(test_all_add_result['abs_error(%)'])\r\n",
        "adj_mape = np.mean(test_all_add_result['adj_abs_error(%)'])\r\n",
        "\r\n",
        "print(f'MSE = {mse}')\r\n",
        "print(f'RMSE = {np.sqrt(mse)}')\r\n",
        "print(f'MAE = {mae}')\r\n",
        "print(f'MAPE = {mape}')\r\n",
        "print(f'adj.MAPE = {adj_mape}')"
      ],
      "execution_count": null,
      "outputs": [
        {
          "output_type": "stream",
          "text": [
            "MSE = 43765346373.96983\n",
            "RMSE = 209201.68826749423\n",
            "MAE = 54063.23955651471\n",
            "MAPE = 1040347.7331614322\n",
            "adj.MAPE = 0.024828758848935935\n"
          ],
          "name": "stdout"
        }
      ]
    },
    {
      "cell_type": "code",
      "metadata": {
        "id": "mV850lD0y_oG"
      },
      "source": [
        "res_lstm = pd.read_csv('test_all_result.csv')"
      ],
      "execution_count": null,
      "outputs": []
    },
    {
      "cell_type": "code",
      "metadata": {
        "colab": {
          "base_uri": "https://localhost:8080/",
          "height": 320
        },
        "id": "tFYZ6drOzrnu",
        "outputId": "1ceb4733-5372-46a0-b787-c7cb73ce4718"
      },
      "source": [
        "index = res_lstm.sort_values('real_m13').index\r\n",
        "plt.figure(figsize = (23, 5))\r\n",
        "# plt.plot(np.arange(0, val_result.shape[0]), val_result['real'][index].values, label = 'real')\r\n",
        "plt.plot(np.arange(0, 1000), res_lstm['pred_m13'][index].values[:1000], label = 'pred_m13')\r\n",
        "plt.plot(np.arange(0, 1000), res_lstm['real_m13'][index].values[:1000], label = 'real_m13')\r\n",
        "plt.title('split and use LSTM without info (first 1000)')\r\n",
        "plt.legend()\r\n",
        "plt.show()"
      ],
      "execution_count": null,
      "outputs": [
        {
          "output_type": "display_data",
          "data": {
            "image/png": "[encoded data removed]",
            "text/plain": [
              "<Figure size 1656x360 with 1 Axes>"
            ]
          },
          "metadata": {
            "tags": [],
            "needs_background": "light"
          }
        }
      ]
    },
    {
      "cell_type": "code",
      "metadata": {
        "colab": {
          "base_uri": "https://localhost:8080/",
          "height": 325
        },
        "id": "bKOiHnMQzSrG",
        "outputId": "90bf9b96-165a-452b-9db9-640c027c622b"
      },
      "source": [
        "index = res_lstm.sort_values('real_m13').index\r\n",
        "plt.figure(figsize = (23, 5))\r\n",
        "# plt.plot(np.arange(0, val_result.shape[0]), val_result['real'][index].values, label = 'real')\r\n",
        "plt.plot(np.arange(0, 1000), res_lstm['pred_m13'][index].values[-1000:], label = 'pred_m13')\r\n",
        "plt.plot(np.arange(0, 1000), res_lstm['real_m13'][index].values[-1000:], label = 'real_m13')\r\n",
        "plt.title('split and use LSTM without info (last 1000)')\r\n",
        "plt.legend()\r\n",
        "plt.show()"
      ],
      "execution_count": null,
      "outputs": [
        {
          "output_type": "display_data",
          "data": {
            "image/png": "[encoded data removed]",
            "text/plain": [
              "<Figure size 1656x360 with 1 Axes>"
            ]
          },
          "metadata": {
            "tags": [],
            "needs_background": "light"
          }
        }
      ]
    },
    {
      "cell_type": "code",
      "metadata": {
        "id": "LsIoeZDJyRAl"
      },
      "source": [
        "res = pd.read_csv('test_all_add_result.csv')"
      ],
      "execution_count": null,
      "outputs": []
    },
    {
      "cell_type": "code",
      "metadata": {
        "colab": {
          "base_uri": "https://localhost:8080/",
          "height": 320
        },
        "id": "ep2FyNl2y5OW",
        "outputId": "78cb9409-4d3e-4e31-860f-cc5a4daf65ff"
      },
      "source": [
        "index = res.sort_values('real_m13').index\r\n",
        "plt.figure(figsize = (23, 5))\r\n",
        "# plt.plot(np.arange(0, val_result.shape[0]), val_result['real'][index].values, label = 'real')\r\n",
        "plt.plot(np.arange(0, 1000), res['pred_m13'][index].values[:1000], label = 'pred_m13')\r\n",
        "plt.plot(np.arange(0, 1000), res['real_m13'][index].values[:1000], label = 'real_m13')\r\n",
        "plt.title('split and use LSTM + info (first 1000)')\r\n",
        "plt.legend()\r\n",
        "plt.show()"
      ],
      "execution_count": null,
      "outputs": [
        {
          "output_type": "display_data",
          "data": {
            "image/png": "[encoded data removed]",
            "text/plain": [
              "<Figure size 1656x360 with 1 Axes>"
            ]
          },
          "metadata": {
            "tags": [],
            "needs_background": "light"
          }
        }
      ]
    },
    {
      "cell_type": "code",
      "metadata": {
        "colab": {
          "base_uri": "https://localhost:8080/",
          "height": 325
        },
        "id": "lsi5fkCQyPu9",
        "outputId": "1d510be1-4bac-431b-cdae-a443b722c371"
      },
      "source": [
        "index = res.sort_values('real_m13').index\r\n",
        "plt.figure(figsize = (23, 5))\r\n",
        "# plt.plot(np.arange(0, val_result.shape[0]), val_result['real'][index].values, label = 'real')\r\n",
        "plt.plot(np.arange(0, 1000), res['pred_m13'][index].values[-1000:], label = 'pred_m13')\r\n",
        "plt.plot(np.arange(0, 1000), res['real_m13'][index].values[-1000:], label = 'real_m13')\r\n",
        "plt.title('split and use LSTM + info (last 1000)')\r\n",
        "plt.legend()\r\n",
        "plt.show()"
      ],
      "execution_count": null,
      "outputs": [
        {
          "output_type": "display_data",
          "data": {
            "image/png": "[encoded data removed]",
            "text/plain": [
              "<Figure size 1656x360 with 1 Axes>"
            ]
          },
          "metadata": {
            "tags": [],
            "needs_background": "light"
          }
        }
      ]
    },
    {
      "cell_type": "code",
      "metadata": {
        "id": "kkxzaTXtyJip"
      },
      "source": [
        ""
      ],
      "execution_count": null,
      "outputs": []
    }
  ]
}